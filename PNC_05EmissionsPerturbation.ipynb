{
 "cells": [
  {
   "cell_type": "code",
   "execution_count": 1,
   "metadata": {
    "collapsed": true
   },
   "outputs": [],
   "source": [
    "from notebook.services.config import ConfigManager\n",
    "cfgm = ConfigManager()\n",
    "cfgm.update('livereveal', {\n",
    "              'theme': 'simple',\n",
    "              'transition': 'convex',\n",
    "              'start_slideshow_at': 'selected'\n",
    "});"
   ]
  },
  {
   "cell_type": "code",
   "execution_count": 2,
   "metadata": {
    "collapsed": false
   },
   "outputs": [
    {
     "data": {
      "text/html": [
       "<style>\n",
       ".answers { \n",
       "    visibility: hidden;\n",
       "}\n",
       "</style>"
      ],
      "text/plain": [
       "<IPython.core.display.HTML object>"
      ]
     },
     "execution_count": 2,
     "metadata": {},
     "output_type": "execute_result"
    }
   ],
   "source": [
    "from IPython.core.display import HTML\n",
    "HTML(\"\"\"<style>\n",
    ".answers { \n",
    "    visibility: hidden;\n",
    "}\n",
    "</style>\"\"\")"
   ]
  },
  {
   "cell_type": "markdown",
   "metadata": {
    "slideshow": {
     "slide_type": "slide"
    }
   },
   "source": [
    "# Python Emissions Perturbation\n",
    "Author: Barron H. Henderson"
   ]
  },
  {
   "cell_type": "markdown",
   "metadata": {},
   "source": [
    "# Prepare by getting data"
   ]
  },
  {
   "cell_type": "code",
   "execution_count": 3,
   "metadata": {
    "collapsed": false
   },
   "outputs": [
    {
     "name": "stdout",
     "output_type": "stream",
     "text": [
      "Populating the interactive namespace from numpy and matplotlib\n",
      "/Users/barronh/Development/RAQMSandPython/working\n"
     ]
    }
   ],
   "source": [
    "%pylab inline\n",
    "%cd working"
   ]
  },
  {
   "cell_type": "code",
   "execution_count": 4,
   "metadata": {
    "collapsed": false
   },
   "outputs": [
    {
     "data": {
      "text/plain": [
       "('cmaq/emis_mole_all_20060801_12US1_cmaq_cb05_tx_C25_2006am.nc4',\n",
       " <email.message.Message at 0x10d2b2828>)"
      ]
     },
     "execution_count": 4,
     "metadata": {},
     "output_type": "execute_result"
    }
   ],
   "source": [
    "from urllib.request import urlretrieve, url2pathname\n",
    "import os\n",
    "qemisurl = 'ftp://data.as.essie.ufl.edu/pub/exch/CMAQandPython/cmaq/emis_mole_all_20060801_12US1_cmaq_cb05_tx_C25_2006am.nc4'\n",
    "qemisoldpath = os.path.join('cmaq', os.path.basename(qemisurl))\n",
    "urlretrieve(qemisurl, filename = qemisoldpath)"
   ]
  },
  {
   "cell_type": "markdown",
   "metadata": {
    "slideshow": {
     "slide_type": "slide"
    }
   },
   "source": [
    "# CMAQ: Emissions Perturbation\n",
    "\n",
    "1. Copy a standard emissions input file\n",
    "2. Open the file in edit mode\n",
    "3. Change the concentration (e.g., cut NOx by half)\n",
    "4. Close the file"
   ]
  },
  {
   "cell_type": "code",
   "execution_count": 4,
   "metadata": {
    "collapsed": true
   },
   "outputs": [],
   "source": [
    "emisoldpath = 'cmaq/emis_mole_all_20060801_12US1_cmaq_cb05_tx_C25_2006am.nc4'\n",
    "emisnewpath = 'emis_cmaq_new.nc'"
   ]
  },
  {
   "cell_type": "markdown",
   "metadata": {
    "slideshow": {
     "slide_type": "subslide"
    }
   },
   "source": [
    "# CMAQ: Copy a standard emissions file"
   ]
  },
  {
   "cell_type": "code",
   "execution_count": 5,
   "metadata": {
    "collapsed": false
   },
   "outputs": [
    {
     "data": {
      "text/plain": [
       "'emis_cmaq_new.nc'"
      ]
     },
     "execution_count": 5,
     "metadata": {},
     "output_type": "execute_result"
    }
   ],
   "source": [
    "import shutil\n",
    "shutil.copyfile(emisoldpath, emisnewpath)"
   ]
  },
  {
   "cell_type": "markdown",
   "metadata": {
    "slideshow": {
     "slide_type": "subslide"
    }
   },
   "source": [
    "# CMAQ: Open the new file in edit mode"
   ]
  },
  {
   "cell_type": "code",
   "execution_count": 6,
   "metadata": {
    "collapsed": false
   },
   "outputs": [],
   "source": [
    "from PseudoNetCDF import PNC\n",
    "emisargs = PNC('--format=netcdf,mode=\"r+\"', emisnewpath)\n",
    "emisnewfile = emisargs.ifiles[0]\n",
    "emisnewfile.variables['NO'][:] /= 2\n",
    "emisnewfile.variables['NO2'][:] /= 2\n",
    "emisnewfile.history = getattr(emisnewfile, 'history', '')\n",
    "emisnewfile.history += 'NOx / 2 everywhere; '\n",
    "emisnewfile.close()"
   ]
  },
  {
   "cell_type": "markdown",
   "metadata": {
    "slideshow": {
     "slide_type": "subslide"
    }
   },
   "source": [
    "# CMAQ: reopen and verify"
   ]
  },
  {
   "cell_type": "code",
   "execution_count": 10,
   "metadata": {
    "collapsed": false
   },
   "outputs": [
    {
     "name": "stdout",
     "output_type": "stream",
     "text": [
      "SPC    OLD    NEW UNITS\n",
      " NO 5127.8 3449.7 Mg/day\n",
      "NO2  809.8  544.8 Mg/day\n",
      "emis_cmaq_new.nc;--format=netcdf,mode=\"r+\" emis_cmaq_new.nc;NOx / 2 everywhere; emis_cmaq_new.nc;--format=netcdf,mode=\"r+\" emis_cmaq_new.nc;Updating NOx (*=100) at i=91.000000 j=99 *= 10; Updating NOx (*=100) at i=54.000000 j=73 *= 10; \n"
     ]
    }
   ],
   "source": [
    "emisargs = PNC(\"--format=netcdf\", emisoldpath, emisnewpath)\n",
    "oldfile, newfile = emisargs.ifiles\n",
    "print('SPC    OLD    NEW UNITS')\n",
    "Mw = dict(NO = 30, NO2 = 46) # g/mole\n",
    "t2h = 3600\n",
    "g2Mg = 1e-6\n",
    "for k in 'NO NO2'.split():\n",
    "    old = oldfile.variables[k][:].sum()*t2h*g2Mg*Mw[k]\n",
    "    new = newfile.variables[k][:].sum()*t2h*g2Mg*Mw[k]\n",
    "    print('%3s %6.1f %6.1f Mg/day' % (k, old, new))\n",
    "\n",
    "print(newfile.history)\n",
    "newfile.close()"
   ]
  },
  {
   "cell_type": "markdown",
   "metadata": {},
   "source": [
    "# And (or) at specific sites"
   ]
  },
  {
   "cell_type": "code",
   "execution_count": 9,
   "metadata": {
    "collapsed": false
   },
   "outputs": [
    {
     "name": "stdout",
     "output_type": "stream",
     "text": [
      "+proj=lcc +a=6370000.0 +b=6370000.0 +lon_0=-97.0 +lat_1=33.0 +lat_2=45.0 +lat_0=40.0 +x_0=-504000.0 +y_0=1488000.0 +to_meter=12000.0m +no_defs\n",
      "-79.0558 35.9132\n",
      "-84.388 33.7499\n"
     ]
    }
   ],
   "source": [
    "from PseudoNetCDF.coordutil import getproj4\n",
    "import pyproj\n",
    "lons = [-79.0558, -84.388]\n",
    "lats = [35.9132, 33.7499]\n",
    "proj4str = getproj4(oldfile, withgrid = True)\n",
    "print(proj4str)\n",
    "proj = pyproj.Proj(proj4str, preserve_units = True)\n",
    "emisargs = PNC('--format=netcdf,mode=\"r+\"', emisnewpath)\n",
    "emisnewfile = emisargs.ifiles[0]\n",
    "emisnewfile.history = getattr(emisnewfile, 'history', '')\n",
    "for lon, lat in zip(lons, lats):\n",
    "    x, y = proj(lon, lat)\n",
    "    i, j = np.int64(x), np.int64(y)\n",
    "    print(lon, lat)\n",
    "    emisnewfile.history += 'Updating NOx (*=100) at i=%f j=%d *= 10; ' % (i,j)\n",
    "    emisnewfile.variables['NO'][:, :, j, i] *= 100\n",
    "    emisnewfile.variables['NO2'][:, :, j, i] *= 100\n",
    "\n",
    "emisnewfile.close()"
   ]
  },
  {
   "cell_type": "markdown",
   "metadata": {},
   "source": [
    "# Were site-wide and specific site changes additive? (answer hidden)\n",
    "<div class=\"answers\">\n",
    "Yes. Files can be iteratively opened and modified. It is good to edit the history so you can check!\n",
    "\n",
    "1. You can check by rerunning confirmation of mass update.\n",
    "2. You can check via history property.\n",
    "</div>"
   ]
  },
  {
   "cell_type": "markdown",
   "metadata": {
    "slideshow": {
     "slide_type": "slide"
    }
   },
   "source": [
    "# CAMx: Emissions Perturbation\n",
    "\n",
    "Repeat the CMAQ process with two exceptions:\n",
    "1. use uamiv instead of netcdf\n",
    "2. remove the change t2h from 3600 (what should it be?)"
   ]
  },
  {
   "cell_type": "code",
   "execution_count": null,
   "metadata": {
    "collapsed": true
   },
   "outputs": [],
   "source": [
    "from urllib.request import urlretrieve, url2pathname\n",
    "import os\n",
    "xemisurl = 'ftp://data.as.essie.ufl.edu/pub/exch/CMAQandPython/camx/emiss.stl.36km.20020603.a1.bin'\n",
    "xemisoldpath = os.path.join('camx', os.path.basename(xemisurl))\n",
    "urlretrieve(xemisurl, filename = xemisoldpath)"
   ]
  }
 ],
 "metadata": {
  "anaconda-cloud": {},
  "celltoolbar": "Slideshow",
  "kernelspec": {
   "display_name": "Python [conda env:atmsci]",
   "language": "python",
   "name": "conda-env-atmsci-py"
  },
  "language_info": {
   "codemirror_mode": {
    "name": "ipython",
    "version": 3
   },
   "file_extension": ".py",
   "mimetype": "text/x-python",
   "name": "python",
   "nbconvert_exporter": "python",
   "pygments_lexer": "ipython3",
   "version": "3.5.2"
  }
 },
 "nbformat": 4,
 "nbformat_minor": 1
}
