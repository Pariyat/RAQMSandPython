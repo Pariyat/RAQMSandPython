{
 "cells": [
  {
   "cell_type": "code",
   "execution_count": 1,
   "metadata": {
    "collapsed": true
   },
   "outputs": [],
   "source": [
    "from notebook.services.config import ConfigManager\n",
    "cfgm = ConfigManager()\n",
    "cfgm.update('livereveal', {\n",
    "              'theme': 'simple',\n",
    "              'transition': 'convex',\n",
    "              'start_slideshow_at': 'selected'\n",
    "});"
   ]
  },
  {
   "cell_type": "code",
   "execution_count": 2,
   "metadata": {
    "collapsed": false
   },
   "outputs": [
    {
     "data": {
      "text/html": [
       "<style>\n",
       ".answers { \n",
       "    visibility: hidden;\n",
       "}\n",
       "</style>"
      ],
      "text/plain": [
       "<IPython.core.display.HTML object>"
      ]
     },
     "execution_count": 2,
     "metadata": {},
     "output_type": "execute_result"
    }
   ],
   "source": [
    "from IPython.core.display import HTML\n",
    "HTML(\"\"\"<style>\n",
    ".answers { \n",
    "    visibility: hidden;\n",
    "}\n",
    "</style>\"\"\")"
   ]
  },
  {
   "cell_type": "code",
   "execution_count": 3,
   "metadata": {
    "collapsed": false
   },
   "outputs": [
    {
     "name": "stdout",
     "output_type": "stream",
     "text": [
      "Populating the interactive namespace from numpy and matplotlib\n",
      "/Users/barronh/Development/RAQMSandPython/working\n"
     ]
    }
   ],
   "source": [
    "%pylab inline\n",
    "%cd working"
   ]
  },
  {
   "cell_type": "markdown",
   "metadata": {
    "slideshow": {
     "slide_type": "slide"
    }
   },
   "source": [
    "# Python Emissions Modification\n",
    "\n",
    "Presented by: Barron H. Henderson, Byeong-Uk Kim"
   ]
  },
  {
   "cell_type": "markdown",
   "metadata": {
    "slideshow": {
     "slide_type": "slide"
    }
   },
   "source": [
    "# CMAQ Area:\n",
    "## Emissions Perturbation\n",
    "\n",
    "1. Copy a standard emissions input file\n",
    "2. Open the file in edit mode\n",
    "3. Change the concentration (e.g., cut NOx by half)\n",
    "4. Close the file"
   ]
  },
  {
   "cell_type": "markdown",
   "metadata": {
    "slideshow": {
     "slide_type": "subslide"
    }
   },
   "source": [
    "# CMAQ Area:\n",
    "## Prepare by getting data"
   ]
  },
  {
   "cell_type": "code",
   "execution_count": 4,
   "metadata": {
    "collapsed": false
   },
   "outputs": [],
   "source": [
    "from urllib.request import urlretrieve, url2pathname\n",
    "import os\n",
    "qemisurl = 'ftp://data.as.essie.ufl.edu/pub/exch/CMAQandPython/' +\\\n",
    "           'cmaq/emis_mole_all_20060801_12US1_cmaq_cb05_tx_C25_2006am.nc4'\n",
    "qemisoldpath = os.path.join('cmaq', os.path.basename(qemisurl))\n",
    "if not os.path.exists(qemisoldpath):\n",
    "    urlretrieve(qemisurl, filename = qemisoldpath)\n"
   ]
  },
  {
   "cell_type": "markdown",
   "metadata": {
    "slideshow": {
     "slide_type": "subslide"
    }
   },
   "source": [
    "# CMAQ Area:\n",
    "## Copy a existing file\n",
    "\n",
    "1. Easies way\n",
    "2. You can also create your own from scratch"
   ]
  },
  {
   "cell_type": "code",
   "execution_count": 5,
   "metadata": {
    "collapsed": true
   },
   "outputs": [],
   "source": [
    "emisoldpath = 'cmaq/emis_mole_all_20060801_12US1_cmaq_cb05_tx_C25_2006am.nc4'\n",
    "emisnewpath = 'emis_cmaq_new.nc'"
   ]
  },
  {
   "cell_type": "code",
   "execution_count": 6,
   "metadata": {
    "collapsed": false
   },
   "outputs": [
    {
     "data": {
      "text/plain": [
       "'emis_cmaq_new.nc'"
      ]
     },
     "execution_count": 6,
     "metadata": {},
     "output_type": "execute_result"
    }
   ],
   "source": [
    "import shutil\n",
    "shutil.copyfile(emisoldpath, emisnewpath)"
   ]
  },
  {
   "cell_type": "markdown",
   "metadata": {
    "slideshow": {
     "slide_type": "subslide"
    }
   },
   "source": [
    "# CMAQ Area:\n",
    "## Open the new file in edit mode"
   ]
  },
  {
   "cell_type": "code",
   "execution_count": 7,
   "metadata": {
    "collapsed": false
   },
   "outputs": [],
   "source": [
    "from PseudoNetCDF import PNC\n",
    "emisargs = PNC('--format=netcdf,mode=\"r+\"', emisnewpath)\n",
    "emisnewfile = emisargs.ifiles[0]"
   ]
  },
  {
   "cell_type": "markdown",
   "metadata": {
    "slideshow": {
     "slide_type": "subslide"
    }
   },
   "source": [
    "# CMAQ Area:\n",
    "## Across the Board Cuts"
   ]
  },
  {
   "cell_type": "code",
   "execution_count": 8,
   "metadata": {
    "collapsed": true
   },
   "outputs": [],
   "source": [
    "emisnewfile.variables['NO'][:] /= 2\n",
    "emisnewfile.variables['NO2'][:] /= 2"
   ]
  },
  {
   "cell_type": "code",
   "execution_count": 9,
   "metadata": {
    "collapsed": false
   },
   "outputs": [],
   "source": [
    "emisnewfile.history = getattr(emisnewfile, 'history', '')\n",
    "emisnewfile.history += 'NOx / 2 everywhere; '\n",
    "emisnewfile.close()"
   ]
  },
  {
   "cell_type": "markdown",
   "metadata": {
    "slideshow": {
     "slide_type": "subslide"
    }
   },
   "source": [
    "# CMAQ Area:\n",
    "## reopen and verify"
   ]
  },
  {
   "cell_type": "code",
   "execution_count": 10,
   "metadata": {
    "collapsed": false
   },
   "outputs": [
    {
     "name": "stdout",
     "output_type": "stream",
     "text": [
      "SPC    OLD    NEW UNITS\n",
      " NO 5127.8 2563.9 Mg/day\n",
      "NO2  809.8  404.9 Mg/day\n",
      "emis_cmaq_new.nc;--format=netcdf,mode=\"r+\" emis_cmaq_new.nc;NOx / 2 everywhere; \n"
     ]
    }
   ],
   "source": [
    "emisargs = PNC(\"--format=netcdf\", emisoldpath, emisnewpath)\n",
    "oldfile, newfile = emisargs.ifiles\n",
    "print('SPC    OLD    NEW UNITS')\n",
    "Mw = dict(NO = 30, NO2 = 46) # g/mole\n",
    "t2h = 3600\n",
    "g2Mg = 1e-6\n",
    "for k in 'NO NO2'.split():\n",
    "    old = oldfile.variables[k][:].sum()*t2h*g2Mg*Mw[k]\n",
    "    new = newfile.variables[k][:].sum()*t2h*g2Mg*Mw[k]\n",
    "    print('%3s %6.1f %6.1f Mg/day' % (k, old, new))\n",
    "\n",
    "print(newfile.history)\n",
    "newfile.close()"
   ]
  },
  {
   "cell_type": "markdown",
   "metadata": {
    "slideshow": {
     "slide_type": "subslide"
    }
   },
   "source": [
    "# CMAQ Area: site-specific\n",
    "\n",
    "You can also make modifications at specific sites in the area emissions."
   ]
  },
  {
   "cell_type": "code",
   "execution_count": 11,
   "metadata": {
    "collapsed": false
   },
   "outputs": [
    {
     "name": "stdout",
     "output_type": "stream",
     "text": [
      "+proj=lcc +a=6370000.0 +b=6370000.0 +lon_0=-97.0 +lat_1=33.0 +lat_2=45.0 +lat_0=40.0 +x_0=-504000.0 +y_0=1488000.0 +to_meter=12000.0m +no_defs\n",
      "-79.0558 35.9132\n",
      "-84.388 33.7499\n"
     ]
    }
   ],
   "source": [
    "from PseudoNetCDF.coordutil import getproj4\n",
    "import pyproj\n",
    "lons = [-79.0558, -84.388]\n",
    "lats = [35.9132, 33.7499]\n",
    "proj4str = getproj4(oldfile, withgrid = True)\n",
    "print(proj4str)\n",
    "proj = pyproj.Proj(proj4str, preserve_units = True)\n",
    "emisargs = PNC('--format=netcdf,mode=\"r+\"', emisnewpath)\n",
    "emisnewfile = emisargs.ifiles[0]\n",
    "emisnewfile.history = getattr(emisnewfile, 'history', '')\n",
    "for lon, lat in zip(lons, lats):\n",
    "    x, y = proj(lon, lat)\n",
    "    i, j = np.int64(x), np.int64(y)\n",
    "    print(lon, lat)\n",
    "    emisnewfile.history += 'Updating NOx (*=100) at i=%d j=%d *= 10; ' % (i,j)\n",
    "    emisnewfile.variables['NO'][:, :, j, i] *= 100\n",
    "    emisnewfile.variables['NO2'][:, :, j, i] *= 100\n",
    "\n",
    "emisnewfile.close()"
   ]
  },
  {
   "cell_type": "markdown",
   "metadata": {
    "slideshow": {
     "slide_type": "slide"
    }
   },
   "source": [
    "# Reopen and Verify"
   ]
  },
  {
   "cell_type": "code",
   "execution_count": 12,
   "metadata": {
    "collapsed": false,
    "slideshow": {
     "slide_type": "-"
    }
   },
   "outputs": [
    {
     "name": "stdout",
     "output_type": "stream",
     "text": [
      "SPC    OLD    NEW UNITS\n",
      " NO 5127.8 3449.7 Mg/day\n",
      "NO2  809.8  544.8 Mg/day\n",
      "emis_cmaq_new.nc;--format=netcdf,mode=\"r+\" emis_cmaq_new.nc;NOx / 2 everywhere; emis_cmaq_new.nc;--format=netcdf,mode=\"r+\" emis_cmaq_new.nc;Updating NOx (*=100) at i=91 j=99 *= 10; Updating NOx (*=100) at i=54 j=73 *= 10; \n"
     ]
    }
   ],
   "source": [
    "emisargs = PNC(\"--format=netcdf\", emisoldpath, emisnewpath)\n",
    "oldfile, newfile = emisargs.ifiles\n",
    "print('SPC    OLD    NEW UNITS')\n",
    "Mw = dict(NO = 30, NO2 = 46) # g/mole\n",
    "t2h = 3600\n",
    "g2Mg = 1e-6\n",
    "for k in 'NO NO2'.split():\n",
    "    old = oldfile.variables[k][:].sum()*t2h*g2Mg*Mw[k]\n",
    "    new = newfile.variables[k][:].sum()*t2h*g2Mg*Mw[k]\n",
    "    print('%3s %6.1f %6.1f Mg/day' % (k, old, new))\n",
    "\n",
    "print(newfile.history)\n",
    "newfile.close()"
   ]
  },
  {
   "cell_type": "markdown",
   "metadata": {
    "slideshow": {
     "slide_type": "subslide"
    }
   },
   "source": [
    "# Check Point\n",
    "\n",
    "Were site-wide and specific site changes additive? (answer hidden)\n",
    "<div class=\"answers\">\n",
    "Yes. Files can be iteratively opened and modified. It is good to edit the history so you can check!\n",
    "\n",
    "1. You can check by rerunning confirmation of mass update.\n",
    "2. You can check via history property.\n",
    "</div>"
   ]
  },
  {
   "cell_type": "markdown",
   "metadata": {
    "slideshow": {
     "slide_type": "slide"
    }
   },
   "source": [
    "# CAMx Area\n",
    "\n",
    "Repeat the CMAQ process with two exceptions:\n",
    "1. use uamiv instead of netcdf\n",
    "2. remove the change t2h from 3600 (what should it be?)"
   ]
  },
  {
   "cell_type": "code",
   "execution_count": 13,
   "metadata": {
    "collapsed": false
   },
   "outputs": [],
   "source": [
    "from urllib.request import urlretrieve, url2pathname\n",
    "import os\n",
    "xemisurl = 'ftp://data.as.essie.ufl.edu/pub/exch/CMAQandPython/camx/emiss.stl.36km.20020603.a1.bin'\n",
    "xemisoldpath = os.path.join('camx', os.path.basename(xemisurl))\n",
    "if not os.path.exists(xemisoldpath):\n",
    "    urlretrieve(xemisurl, filename = xemisoldpath)"
   ]
  },
  {
   "cell_type": "markdown",
   "metadata": {
    "slideshow": {
     "slide_type": "slide"
    }
   },
   "source": [
    "# CAMx Point: Emissions Perturbation\n",
    "\n",
    "1. Modify existing emissions\n",
    "2. Add a new point"
   ]
  },
  {
   "cell_type": "markdown",
   "metadata": {
    "slideshow": {
     "slide_type": "subslide"
    }
   },
   "source": [
    "# CAMx Point:\n",
    "## Prepare by downloading some data"
   ]
  },
  {
   "cell_type": "code",
   "execution_count": 14,
   "metadata": {
    "collapsed": true
   },
   "outputs": [],
   "source": [
    "from urllib.request import urlretrieve, url2pathname\n",
    "import os\n",
    "xemisurl = 'ftp://data.as.essie.ufl.edu/pub/exch/CMAQandPython/camx/camx_point_test.bin'\n",
    "xemisoldpath = os.path.join('camx', os.path.basename(qemisurl))\n",
    "if not os.path.exists(qemisoldpath):\n",
    "    urlretrieve(xemisurl, filename = xemisoldpath)\n"
   ]
  },
  {
   "cell_type": "code",
   "execution_count": 15,
   "metadata": {
    "collapsed": true
   },
   "outputs": [],
   "source": [
    "oldxpntpath = 'camx/camx_point_test.bin'\n",
    "newxpntpath = 'camx_point_new.bin'\n",
    "doublexpntpath = 'camx_point_2x.bin'"
   ]
  },
  {
   "cell_type": "markdown",
   "metadata": {
    "slideshow": {
     "slide_type": "slide"
    }
   },
   "source": [
    "# CAMx Point: Double NOx\n",
    "\n",
    "1. Copy input\n",
    "2. Read in\n",
    "3. Double NO and NO2"
   ]
  },
  {
   "cell_type": "code",
   "execution_count": 16,
   "metadata": {
    "collapsed": true
   },
   "outputs": [],
   "source": [
    "# Copy input\n",
    "import shutil\n",
    "shutil.copyfile(oldxpntpath, doublexpntpath)\n",
    "# Read in edit mode, double save\n",
    "from PseudoNetCDF import PNC\n",
    "doubleargs = PNC('--format=point_source,mode=\"r+\"', doublexpntpath)\n",
    "doublefile = doubleargs.ifiles[0]\n",
    "doublefile.variables['NO'][:] *= 2\n",
    "doublefile.variables['NO2'][:] *= 2\n",
    "doublefile.history += '; doubling NO and NO2 everywhere'\n",
    "doublefile.close()"
   ]
  },
  {
   "cell_type": "markdown",
   "metadata": {
    "slideshow": {
     "slide_type": "subslide"
    }
   },
   "source": [
    "# CAMx Point:\n",
    "## Reopen and verify"
   ]
  },
  {
   "cell_type": "code",
   "execution_count": 17,
   "metadata": {
    "collapsed": false
   },
   "outputs": [
    {
     "name": "stdout",
     "output_type": "stream",
     "text": [
      "SPC    OLD    NEW UNITS\n",
      " NO  735.0 1470.0 Mg/day\n",
      "NO2  125.2  250.4 Mg/day\n",
      "camx/camx_point_test.bin camx_point_2x.bin;--format=point_source camx/camx_point_test.bin camx_point_2x.bin;\n"
     ]
    }
   ],
   "source": [
    "emisargs = PNC(\"--format=point_source\", oldxpntpath, doublexpntpath)\n",
    "oldfile, newfile = emisargs.ifiles\n",
    "print('SPC    OLD    NEW UNITS')\n",
    "Mw = dict(NO = 30, NO2 = 46) # g/mole\n",
    "t2h = 3600\n",
    "g2Mg = 1e-6\n",
    "for k in 'NO NO2'.split():\n",
    "    old = oldfile.variables[k][:].sum()*t2h*g2Mg*Mw[k]\n",
    "    new = newfile.variables[k][:].sum()*t2h*g2Mg*Mw[k]\n",
    "    print('%3s %6.1f %6.1f Mg/day' % (k, old, new))\n",
    "\n",
    "print(newfile.history)\n",
    "newfile.close()"
   ]
  },
  {
   "cell_type": "markdown",
   "metadata": {
    "slideshow": {
     "slide_type": "slide"
    }
   },
   "source": [
    "# CAMx Point: Adding a point\n",
    "\n",
    "1. Review the basic file\n",
    "2. Create a template for holding results\n",
    "3. Define new points\n",
    "4. Add new point data"
   ]
  },
  {
   "cell_type": "markdown",
   "metadata": {
    "slideshow": {
     "slide_type": "subslide"
    }
   },
   "source": [
    "# CAMx Point: Add new\n",
    "## Review the basic file\n",
    " \n",
    "1. dimensions,\n",
    "2. properties,\n",
    "3. variables (and their properties)\n"
   ]
  },
  {
   "cell_type": "code",
   "execution_count": 18,
   "metadata": {
    "collapsed": false
   },
   "outputs": [
    {
     "data": {
      "text/plain": [
       "PseudoNetCDF.camxfiles.point_source.Memmap.point_source unknown {\n",
       "dimensions:\n",
       "        NSTK = 5 ;\n",
       "        TSTEP = 2 ;\n",
       "        DATE-TIME = 2 ;\n",
       "        VAR = 26 ;\n",
       "\n",
       "variables:\n",
       "        float NH3(TSTEP, NSTK);\n",
       "                NH3:units = \"mole/hr         \" ;\n",
       "                NH3:long_name = \"NH3             \" ;\n",
       "                NH3:var_desc = \"NH3             \" ;\n",
       "        integer IONE(TSTEP, NSTK);\n",
       "                IONE:units = \"#\" ;\n",
       "                IONE:long_name = \"IONE            \" ;\n",
       "                IONE:var_desc = \"IONE            \" ;\n",
       "        float OLE(TSTEP, NSTK);\n",
       "                OLE:units = \"mole/hr         \" ;\n",
       "                OLE:long_name = \"OLE             \" ;\n",
       "                OLE:var_desc = \"OLE             \" ;\n",
       "        float CPRM(TSTEP, NSTK);\n",
       "                CPRM:units = \"mole/hr         \" ;\n",
       "                CPRM:long_name = \"CPRM            \" ;\n",
       "                CPRM:var_desc = \"CPRM            \" ;\n",
       "        float YSTK(NSTK);\n",
       "                YSTK:units = \"m\" ;\n",
       "                YSTK:long_name = \"YSTK            \" ;\n",
       "                YSTK:var_desc = \"YSTK            \" ;\n",
       "        float FLOW(TSTEP, NSTK);\n",
       "                FLOW:units = \"m**3/hr\" ;\n",
       "                FLOW:long_name = \"FLOW            \" ;\n",
       "                FLOW:var_desc = \"FLOW            \" ;\n",
       "        integer ITWO(TSTEP, NSTK);\n",
       "                ITWO:units = \"#\" ;\n",
       "                ITWO:long_name = \"ITWO            \" ;\n",
       "                ITWO:var_desc = \"ITWO            \" ;\n",
       "        float FPRM(TSTEP, NSTK);\n",
       "                FPRM:units = \"mole/hr         \" ;\n",
       "                FPRM:long_name = \"FPRM            \" ;\n",
       "                FPRM:var_desc = \"FPRM            \" ;\n",
       "        integer TFLAG(TSTEP, VAR, DATE-TIME);\n",
       "                TFLAG:units = \"DATE-TIME       \" ;\n",
       "                TFLAG:long_name = \"TFLAG           \" ;\n",
       "                TFLAG:var_desc = \"TFLAG           \" ;\n",
       "        float FORM(TSTEP, NSTK);\n",
       "                FORM:units = \"mole/hr         \" ;\n",
       "                FORM:long_name = \"FORM            \" ;\n",
       "                FORM:var_desc = \"FORM            \" ;\n",
       "        float PLMHT(TSTEP, NSTK);\n",
       "                PLMHT:units = \"m\" ;\n",
       "                PLMHT:long_name = \"PLMHT           \" ;\n",
       "                PLMHT:var_desc = \"PLMHT           \" ;\n",
       "        float PSO4(TSTEP, NSTK);\n",
       "                PSO4:units = \"mole/hr         \" ;\n",
       "                PSO4:long_name = \"PSO4            \" ;\n",
       "                PSO4:var_desc = \"PSO4            \" ;\n",
       "        float HSTK(NSTK);\n",
       "                HSTK:units = \"m\" ;\n",
       "                HSTK:long_name = \"HSTK            \" ;\n",
       "                HSTK:var_desc = \"HSTK            \" ;\n",
       "        float CO(TSTEP, NSTK);\n",
       "                CO:units = \"mole/hr         \" ;\n",
       "                CO:long_name = \"CO              \" ;\n",
       "                CO:var_desc = \"CO              \" ;\n",
       "        float DSTK(NSTK);\n",
       "                DSTK:units = \"m\" ;\n",
       "                DSTK:long_name = \"DSTK            \" ;\n",
       "                DSTK:var_desc = \"DSTK            \" ;\n",
       "        float NO2(TSTEP, NSTK);\n",
       "                NO2:units = \"mole/hr         \" ;\n",
       "                NO2:long_name = \"NO2             \" ;\n",
       "                NO2:var_desc = \"NO2             \" ;\n",
       "        float NR(TSTEP, NSTK);\n",
       "                NR:units = \"mole/hr         \" ;\n",
       "                NR:long_name = \"NR              \" ;\n",
       "                NR:var_desc = \"NR              \" ;\n",
       "        float PEC(TSTEP, NSTK);\n",
       "                PEC:units = \"mole/hr         \" ;\n",
       "                PEC:long_name = \"PEC             \" ;\n",
       "                PEC:var_desc = \"PEC             \" ;\n",
       "        float TSTK(NSTK);\n",
       "                TSTK:units = \"K\" ;\n",
       "                TSTK:long_name = \"TSTK            \" ;\n",
       "                TSTK:var_desc = \"TSTK            \" ;\n",
       "        float ETH(TSTEP, NSTK);\n",
       "                ETH:units = \"mole/hr         \" ;\n",
       "                ETH:long_name = \"ETH             \" ;\n",
       "                ETH:var_desc = \"ETH             \" ;\n",
       "        integer ETFLAG(TSTEP, VAR, DATE-TIME);\n",
       "                ETFLAG:units = \"DATE-TIME       \" ;\n",
       "                ETFLAG:long_name = \"TFLAG           \" ;\n",
       "                ETFLAG:var_desc = \"TFLAG           \" ;\n",
       "        integer NSTKS(TSTEP);\n",
       "                NSTKS:units = \"#               \" ;\n",
       "                NSTKS:long_name = \"NSTKS           \" ;\n",
       "                NSTKS:var_desc = \"NSTKS           \" ;\n",
       "        float ISOP(TSTEP, NSTK);\n",
       "                ISOP:units = \"mole/hr         \" ;\n",
       "                ISOP:long_name = \"ISOP            \" ;\n",
       "                ISOP:var_desc = \"ISOP            \" ;\n",
       "        float ALD2(TSTEP, NSTK);\n",
       "                ALD2:units = \"mole/hr         \" ;\n",
       "                ALD2:long_name = \"ALD2            \" ;\n",
       "                ALD2:var_desc = \"ALD2            \" ;\n",
       "        float SULF(TSTEP, NSTK);\n",
       "                SULF:units = \"mole/hr         \" ;\n",
       "                SULF:long_name = \"SULF            \" ;\n",
       "                SULF:var_desc = \"SULF            \" ;\n",
       "        float XSTK(NSTK);\n",
       "                XSTK:units = \"m\" ;\n",
       "                XSTK:long_name = \"XSTK            \" ;\n",
       "                XSTK:var_desc = \"XSTK            \" ;\n",
       "        float XYL(TSTEP, NSTK);\n",
       "                XYL:units = \"mole/hr         \" ;\n",
       "                XYL:long_name = \"XYL             \" ;\n",
       "                XYL:var_desc = \"XYL             \" ;\n",
       "        float PNO3(TSTEP, NSTK);\n",
       "                PNO3:units = \"mole/hr         \" ;\n",
       "                PNO3:long_name = \"PNO3            \" ;\n",
       "                PNO3:var_desc = \"PNO3            \" ;\n",
       "        float TOL(TSTEP, NSTK);\n",
       "                TOL:units = \"mole/hr         \" ;\n",
       "                TOL:long_name = \"TOL             \" ;\n",
       "                TOL:var_desc = \"TOL             \" ;\n",
       "        float POA(TSTEP, NSTK);\n",
       "                POA:units = \"mole/hr         \" ;\n",
       "                POA:long_name = \"POA             \" ;\n",
       "                POA:var_desc = \"POA             \" ;\n",
       "        float PAR(TSTEP, NSTK);\n",
       "                PAR:units = \"mole/hr         \" ;\n",
       "                PAR:long_name = \"PAR             \" ;\n",
       "                PAR:var_desc = \"PAR             \" ;\n",
       "        float VSTK(NSTK);\n",
       "                VSTK:units = \"m/h\" ;\n",
       "                VSTK:long_name = \"VSTK            \" ;\n",
       "                VSTK:var_desc = \"VSTK            \" ;\n",
       "        integer KCELL(TSTEP, NSTK);\n",
       "                KCELL:units = \"#\" ;\n",
       "                KCELL:long_name = \"KCELL           \" ;\n",
       "                KCELL:var_desc = \"KCELL           \" ;\n",
       "        float NO(TSTEP, NSTK);\n",
       "                NO:units = \"mole/hr         \" ;\n",
       "                NO:long_name = \"NO              \" ;\n",
       "                NO:var_desc = \"NO              \" ;\n",
       "        float XYLA(TSTEP, NSTK);\n",
       "                XYLA:units = \"mole/hr         \" ;\n",
       "                XYLA:long_name = \"XYLA            \" ;\n",
       "                XYLA:var_desc = \"XYLA            \" ;\n",
       "        float SO2(TSTEP, NSTK);\n",
       "                SO2:units = \"mole/hr         \" ;\n",
       "                SO2:long_name = \"SO2             \" ;\n",
       "                SO2:var_desc = \"SO2             \" ;\n",
       "        float TOLA(TSTEP, NSTK);\n",
       "                TOLA:units = \"mole/hr         \" ;\n",
       "                TOLA:long_name = \"TOLA            \" ;\n",
       "                TOLA:var_desc = \"TOLA            \" ;\n",
       "\n",
       "\n",
       "// global properties:\n",
       "                :NAME = \"PTSOURCE  \" ;\n",
       "                :NOTE = \"stl36km68x68 UAM elev pt emis from WMRGELEV                 \" ;\n",
       "                :XORIG = -792000.0 ;\n",
       "                :YORIG = -1656000.0 ;\n",
       "                :XCELL = 36000.0 ;\n",
       "                :YCELL = 36000.0 ;\n",
       "                :NCOLS = 68 ;\n",
       "                :NROWS = 68 ;\n",
       "                :NLAYS = 16 ;\n",
       "                :PLON = 0.0 ;\n",
       "                :PLAT = 0.0 ;\n",
       "                :TLAT1 = 0.0 ;\n",
       "                :TLAT2 = 20.0 ;\n",
       "                :IUTM = 0 ;\n",
       "                :ISTAG = 13 ;\n",
       "                :CPROJ = 3 ;\n",
       "                :ITZON = 1 ;\n",
       "                :SDATE = memmap([2168], dtype=int32) ;\n",
       "                :STIME = memmap([ 0.], dtype=float32) ;\n",
       "                :EDATE = memmap([2168], dtype=int32) ;\n",
       "                :ETIME = memmap([ 23.], dtype=float32) ;\n",
       "                :SPC_NAMES = \"CO              NO              NO2             ALD2            ETH             FORM            ISOP            NR              OLE             PAR             TOL             XYL             NH3             SO2             SULF            PEC             FPRM            PNO3            POA             PSO4            CPRM            TOLA            XYLA            \" ;\n",
       "                :VAR-LIST = \"ETFLAG          TFLAG           XSTK            YSTK            HSTK            DSTK            TSTK            VSTK            IONE            ITWO            KCELL           FLOW            PLMHT           NSTKS           CO              NO              NO2             ALD2            ETH             FORM            ISOP            NR              OLE             PAR             TOL             XYL             NH3             SO2             SULF            PEC             FPRM            PNO3            POA             PSO4            CPRM            TOLA            XYLA            \" ;\n",
       "                :NSTEPS = 2 ;\n",
       "                :history = \"camx_point_2x.bin;--format=point_source camx_point_2x.bin;\" ;\n",
       "}"
      ]
     },
     "execution_count": 18,
     "metadata": {},
     "output_type": "execute_result"
    }
   ],
   "source": [
    "from PseudoNetCDF.pncgen import Pseudo2NetCDF, pncgen\n",
    "p2n = Pseudo2NetCDF()\n",
    "pntargs = PNC('--format=point_source', doublexpntpath)\n",
    "infile = pntargs.ifiles[0]\n",
    "infile"
   ]
  },
  {
   "cell_type": "markdown",
   "metadata": {
    "slideshow": {
     "slide_type": "subslide"
    }
   },
   "source": [
    "# CAMx Point: Add new\n",
    "## Template for new results\n",
    "\n",
    "1. Make a new output file\n",
    "2. Copy dimensions (except NSTK = NSTK + 2)\n",
    "3. Copy global properties\n",
    "4. Copy variables with old variable data"
   ]
  },
  {
   "cell_type": "markdown",
   "metadata": {},
   "source": [
    "# CAMx Point: New Points\n",
    "## Make empty file"
   ]
  },
  {
   "cell_type": "code",
   "execution_count": 19,
   "metadata": {
    "collapsed": true,
    "slideshow": {
     "slide_type": "subslide"
    }
   },
   "outputs": [],
   "source": [
    "from PseudoNetCDF import PseudoNetCDFFile\n",
    "outfile = PseudoNetCDFFile()"
   ]
  },
  {
   "cell_type": "markdown",
   "metadata": {},
   "source": [
    "# CAMx Point: Add new\n",
    "## Copy and augment dimensions"
   ]
  },
  {
   "cell_type": "code",
   "execution_count": 20,
   "metadata": {
    "collapsed": true,
    "slideshow": {
     "slide_type": "subslide"
    }
   },
   "outputs": [],
   "source": [
    "for dimkey, dimo in infile.dimensions.items():\n",
    "    if dimkey == 'NSTK':\n",
    "        dimlen =  7\n",
    "    else:\n",
    "        dimlen = len(dimo)\n",
    "    \n",
    "    outfile.createDimension(dimkey, dimlen)"
   ]
  },
  {
   "cell_type": "markdown",
   "metadata": {},
   "source": [
    "# CAMx Point: Add new\n",
    "## Copy global properties"
   ]
  },
  {
   "cell_type": "code",
   "execution_count": 21,
   "metadata": {
    "collapsed": true,
    "slideshow": {
     "slide_type": "subslide"
    }
   },
   "outputs": [],
   "source": [
    "for key in infile.ncattrs():\n",
    "    setattr(outfile, key, getattr(infile, key))"
   ]
  },
  {
   "cell_type": "markdown",
   "metadata": {},
   "source": [
    "# CAMx Point: Add new\n",
    "## Copy variables (old data)"
   ]
  },
  {
   "cell_type": "code",
   "execution_count": 22,
   "metadata": {
    "collapsed": false,
    "slideshow": {
     "slide_type": "subslide"
    }
   },
   "outputs": [],
   "source": [
    "for vark, invar in infile.variables.items():\n",
    "    outvar = outfile.createVariable(vark,\n",
    "                                    invar.dtype.char,\n",
    "                                    invar.dimensions)\n",
    "    for key in invar.ncattrs():\n",
    "        setattr(outvar, key, getattr(invar, key))\n",
    "\n",
    "    # (NSTK,) per stack Variables \n",
    "    if outvar.ndim == 1:\n",
    "        outvar[:5] = invar[:]\n",
    "    # (TSTEP,VAR,DATE-TIME) - TFLAG\n",
    "    elif outvar.ndim == 3:\n",
    "        outvar[:] = invar[:]\n",
    "    # (TSTEP, NSTK)\n",
    "    else:\n",
    "        outvar[:, :5] = invar[:, :]"
   ]
  },
  {
   "cell_type": "markdown",
   "metadata": {
    "slideshow": {
     "slide_type": "subslide"
    }
   },
   "source": [
    "# CAMx Point: Add new\n",
    "## Project Some New Points"
   ]
  },
  {
   "cell_type": "code",
   "execution_count": 23,
   "metadata": {
    "collapsed": false
   },
   "outputs": [
    {
     "data": {
      "text/plain": [
       "([1598890.4622295578, 1160661.755702475],\n",
       " [-293680.26196647936, -611235.3333806654])"
      ]
     },
     "execution_count": 23,
     "metadata": {},
     "output_type": "execute_result"
    }
   ],
   "source": [
    "from PseudoNetCDF.coordutil import getproj4\n",
    "from pyproj import Proj\n",
    "projin = Proj('+proj=lcc +a=6370000.0 +b=6370000.0 +lon_0=-97.0 +lat_1=33.0 +lat_2=45.0 +lat_0=40.0 +no_defs', preserve_unit = True)\n",
    "lons = [-79.0558, -84.388]\n",
    "lats = [35.9132, 33.7499]\n",
    "stkX, stkY = projin(lons, lats)\n",
    "stkX, stkY"
   ]
  },
  {
   "cell_type": "markdown",
   "metadata": {
    "slideshow": {
     "slide_type": "subslide"
    }
   },
   "source": [
    "# CAMx Point: Add new\n",
    "## Set the time-independent properties\n",
    "- XSTK, YSTK location in projected coordinates (meters)\n",
    "- HSTK, DSTK height and diameter in (meters)\n",
    "- TSTK, VSTK temperature (K) and velocity (m/hr)"
   ]
  },
  {
   "cell_type": "code",
   "execution_count": 24,
   "metadata": {
    "collapsed": false,
    "slideshow": {
     "slide_type": "subslide"
    }
   },
   "outputs": [],
   "source": [
    "# Stack Properties ['XSTK','YSTK','HSTK','DSTK','TSTK','VSTK']\n",
    "outfile.variables['XSTK'][5:] = stkX\n",
    "outfile.variables['YSTK'][5:] = stkY\n",
    "outfile.variables['HSTK'][5:] = 100.\n",
    "outfile.variables['DSTK'][5:] = 1.\n",
    "outfile.variables['TSTK'][5:] = 400.\n",
    "outfile.variables['VSTK'][5:] = 150000."
   ]
  },
  {
   "cell_type": "markdown",
   "metadata": {
    "slideshow": {
     "slide_type": "subslide"
    }
   },
   "source": [
    "# Time-dependent Stack Properties\n",
    "* IONE, ITWO - dummy variables\n",
    "* KCELL - if negative, OSAT/PSAT override\n",
    "* FLOW - flow rate m$^3$/hr\n",
    "* PLMHT - negative values override plumerise"
   ]
  },
  {
   "cell_type": "code",
   "execution_count": 25,
   "metadata": {
    "collapsed": true,
    "slideshow": {
     "slide_type": "subslide"
    }
   },
   "outputs": [],
   "source": [
    "# Time-dependent Stack Props ['IONE','ITWO','KCELL','FLOW','PLMHT']\n",
    "outfile.variables['IONE'][:,5:] = 0\n",
    "outfile.variables['ITWO'][:,5:] = 0\n",
    "outfile.variables['KCELL'][:,5] = 1\n",
    "outfile.variables['FLOW'][:,5] = 0.\n",
    "outfile.variables['PLMHT'][:,5] = 0."
   ]
  },
  {
   "cell_type": "markdown",
   "metadata": {
    "slideshow": {
     "slide_type": "subslide"
    }
   },
   "source": [
    "# Add new point emissions"
   ]
  },
  {
   "cell_type": "code",
   "execution_count": 26,
   "metadata": {
    "collapsed": false
   },
   "outputs": [],
   "source": [
    "# Emissions ['ALD2', 'CO', 'CPRM', 'ETH', 'FORM', 'FPRM', 'ISOP', 'NH3', 'NO', NO2', 'NR', 'OLE', 'PAR', 'PEC', 'PNO3', 'POA', 'PSO4', 'SO2', 'SULF', 'TOL', 'TOLA', 'XYL', 'XYLA']\n",
    "outfile.variables['NO'][:,5:] = outfile.variables['NO'][:].mean(1)\n",
    "outfile.variables['NO2'][:,5:] = outfile.variables['NO'][:].mean(1)"
   ]
  },
  {
   "cell_type": "markdown",
   "metadata": {
    "slideshow": {
     "slide_type": "subslide"
    }
   },
   "source": [
    "# Write out the file\n",
    "\n",
    "1. Notice pncgen could be used for persisting any file\n",
    "2. Formats for writing include (NetCDF3/4, camx uamiv, etc)"
   ]
  },
  {
   "cell_type": "code",
   "execution_count": 27,
   "metadata": {
    "collapsed": false
   },
   "outputs": [],
   "source": [
    "pncgen(outfile, newxpntpath, format = 'point_source');"
   ]
  },
  {
   "cell_type": "code",
   "execution_count": 28,
   "metadata": {
    "collapsed": false
   },
   "outputs": [
    {
     "data": {
      "text/plain": [
       "PseudoNetCDF.camxfiles.point_source.Memmap.point_source unknown {\n",
       "dimensions:\n",
       "        NSTK = 7 ;\n",
       "        TSTEP = 2 ;\n",
       "        DATE-TIME = 2 ;\n",
       "        VAR = 26 ;\n",
       "\n",
       "variables:\n",
       "        float NH3(TSTEP, NSTK);\n",
       "                NH3:units = \"mole/hr         \" ;\n",
       "                NH3:long_name = \"NH3             \" ;\n",
       "                NH3:var_desc = \"NH3             \" ;\n",
       "        integer IONE(TSTEP, NSTK);\n",
       "                IONE:units = \"#\" ;\n",
       "                IONE:long_name = \"IONE            \" ;\n",
       "                IONE:var_desc = \"IONE            \" ;\n",
       "        float OLE(TSTEP, NSTK);\n",
       "                OLE:units = \"mole/hr         \" ;\n",
       "                OLE:long_name = \"OLE             \" ;\n",
       "                OLE:var_desc = \"OLE             \" ;\n",
       "        float CPRM(TSTEP, NSTK);\n",
       "                CPRM:units = \"mole/hr         \" ;\n",
       "                CPRM:long_name = \"CPRM            \" ;\n",
       "                CPRM:var_desc = \"CPRM            \" ;\n",
       "        float YSTK(NSTK);\n",
       "                YSTK:units = \"m\" ;\n",
       "                YSTK:long_name = \"YSTK            \" ;\n",
       "                YSTK:var_desc = \"YSTK            \" ;\n",
       "        float FLOW(TSTEP, NSTK);\n",
       "                FLOW:units = \"m**3/hr\" ;\n",
       "                FLOW:long_name = \"FLOW            \" ;\n",
       "                FLOW:var_desc = \"FLOW            \" ;\n",
       "        integer ITWO(TSTEP, NSTK);\n",
       "                ITWO:units = \"#\" ;\n",
       "                ITWO:long_name = \"ITWO            \" ;\n",
       "                ITWO:var_desc = \"ITWO            \" ;\n",
       "        float FPRM(TSTEP, NSTK);\n",
       "                FPRM:units = \"mole/hr         \" ;\n",
       "                FPRM:long_name = \"FPRM            \" ;\n",
       "                FPRM:var_desc = \"FPRM            \" ;\n",
       "        integer TFLAG(TSTEP, VAR, DATE-TIME);\n",
       "                TFLAG:units = \"DATE-TIME       \" ;\n",
       "                TFLAG:long_name = \"TFLAG           \" ;\n",
       "                TFLAG:var_desc = \"TFLAG           \" ;\n",
       "        float FORM(TSTEP, NSTK);\n",
       "                FORM:units = \"mole/hr         \" ;\n",
       "                FORM:long_name = \"FORM            \" ;\n",
       "                FORM:var_desc = \"FORM            \" ;\n",
       "        float PLMHT(TSTEP, NSTK);\n",
       "                PLMHT:units = \"m\" ;\n",
       "                PLMHT:long_name = \"PLMHT           \" ;\n",
       "                PLMHT:var_desc = \"PLMHT           \" ;\n",
       "        float PSO4(TSTEP, NSTK);\n",
       "                PSO4:units = \"mole/hr         \" ;\n",
       "                PSO4:long_name = \"PSO4            \" ;\n",
       "                PSO4:var_desc = \"PSO4            \" ;\n",
       "        float HSTK(NSTK);\n",
       "                HSTK:units = \"m\" ;\n",
       "                HSTK:long_name = \"HSTK            \" ;\n",
       "                HSTK:var_desc = \"HSTK            \" ;\n",
       "        float CO(TSTEP, NSTK);\n",
       "                CO:units = \"mole/hr         \" ;\n",
       "                CO:long_name = \"CO              \" ;\n",
       "                CO:var_desc = \"CO              \" ;\n",
       "        float DSTK(NSTK);\n",
       "                DSTK:units = \"m\" ;\n",
       "                DSTK:long_name = \"DSTK            \" ;\n",
       "                DSTK:var_desc = \"DSTK            \" ;\n",
       "        float NO2(TSTEP, NSTK);\n",
       "                NO2:units = \"mole/hr         \" ;\n",
       "                NO2:long_name = \"NO2             \" ;\n",
       "                NO2:var_desc = \"NO2             \" ;\n",
       "        float NR(TSTEP, NSTK);\n",
       "                NR:units = \"mole/hr         \" ;\n",
       "                NR:long_name = \"NR              \" ;\n",
       "                NR:var_desc = \"NR              \" ;\n",
       "        float PEC(TSTEP, NSTK);\n",
       "                PEC:units = \"mole/hr         \" ;\n",
       "                PEC:long_name = \"PEC             \" ;\n",
       "                PEC:var_desc = \"PEC             \" ;\n",
       "        float TSTK(NSTK);\n",
       "                TSTK:units = \"K\" ;\n",
       "                TSTK:long_name = \"TSTK            \" ;\n",
       "                TSTK:var_desc = \"TSTK            \" ;\n",
       "        float ETH(TSTEP, NSTK);\n",
       "                ETH:units = \"mole/hr         \" ;\n",
       "                ETH:long_name = \"ETH             \" ;\n",
       "                ETH:var_desc = \"ETH             \" ;\n",
       "        integer ETFLAG(TSTEP, VAR, DATE-TIME);\n",
       "                ETFLAG:units = \"DATE-TIME       \" ;\n",
       "                ETFLAG:long_name = \"TFLAG           \" ;\n",
       "                ETFLAG:var_desc = \"TFLAG           \" ;\n",
       "        integer NSTKS(TSTEP);\n",
       "                NSTKS:units = \"#               \" ;\n",
       "                NSTKS:long_name = \"NSTKS           \" ;\n",
       "                NSTKS:var_desc = \"NSTKS           \" ;\n",
       "        float ISOP(TSTEP, NSTK);\n",
       "                ISOP:units = \"mole/hr         \" ;\n",
       "                ISOP:long_name = \"ISOP            \" ;\n",
       "                ISOP:var_desc = \"ISOP            \" ;\n",
       "        float ALD2(TSTEP, NSTK);\n",
       "                ALD2:units = \"mole/hr         \" ;\n",
       "                ALD2:long_name = \"ALD2            \" ;\n",
       "                ALD2:var_desc = \"ALD2            \" ;\n",
       "        float SULF(TSTEP, NSTK);\n",
       "                SULF:units = \"mole/hr         \" ;\n",
       "                SULF:long_name = \"SULF            \" ;\n",
       "                SULF:var_desc = \"SULF            \" ;\n",
       "        float XSTK(NSTK);\n",
       "                XSTK:units = \"m\" ;\n",
       "                XSTK:long_name = \"XSTK            \" ;\n",
       "                XSTK:var_desc = \"XSTK            \" ;\n",
       "        float XYL(TSTEP, NSTK);\n",
       "                XYL:units = \"mole/hr         \" ;\n",
       "                XYL:long_name = \"XYL             \" ;\n",
       "                XYL:var_desc = \"XYL             \" ;\n",
       "        float PNO3(TSTEP, NSTK);\n",
       "                PNO3:units = \"mole/hr         \" ;\n",
       "                PNO3:long_name = \"PNO3            \" ;\n",
       "                PNO3:var_desc = \"PNO3            \" ;\n",
       "        float TOL(TSTEP, NSTK);\n",
       "                TOL:units = \"mole/hr         \" ;\n",
       "                TOL:long_name = \"TOL             \" ;\n",
       "                TOL:var_desc = \"TOL             \" ;\n",
       "        float POA(TSTEP, NSTK);\n",
       "                POA:units = \"mole/hr         \" ;\n",
       "                POA:long_name = \"POA             \" ;\n",
       "                POA:var_desc = \"POA             \" ;\n",
       "        float PAR(TSTEP, NSTK);\n",
       "                PAR:units = \"mole/hr         \" ;\n",
       "                PAR:long_name = \"PAR             \" ;\n",
       "                PAR:var_desc = \"PAR             \" ;\n",
       "        float VSTK(NSTK);\n",
       "                VSTK:units = \"m/h\" ;\n",
       "                VSTK:long_name = \"VSTK            \" ;\n",
       "                VSTK:var_desc = \"VSTK            \" ;\n",
       "        integer KCELL(TSTEP, NSTK);\n",
       "                KCELL:units = \"#\" ;\n",
       "                KCELL:long_name = \"KCELL           \" ;\n",
       "                KCELL:var_desc = \"KCELL           \" ;\n",
       "        float NO(TSTEP, NSTK);\n",
       "                NO:units = \"mole/hr         \" ;\n",
       "                NO:long_name = \"NO              \" ;\n",
       "                NO:var_desc = \"NO              \" ;\n",
       "        float XYLA(TSTEP, NSTK);\n",
       "                XYLA:units = \"mole/hr         \" ;\n",
       "                XYLA:long_name = \"XYLA            \" ;\n",
       "                XYLA:var_desc = \"XYLA            \" ;\n",
       "        float SO2(TSTEP, NSTK);\n",
       "                SO2:units = \"mole/hr         \" ;\n",
       "                SO2:long_name = \"SO2             \" ;\n",
       "                SO2:var_desc = \"SO2             \" ;\n",
       "        float TOLA(TSTEP, NSTK);\n",
       "                TOLA:units = \"mole/hr         \" ;\n",
       "                TOLA:long_name = \"TOLA            \" ;\n",
       "                TOLA:var_desc = \"TOLA            \" ;\n",
       "\n",
       "\n",
       "// global properties:\n",
       "                :NAME = \"PTSOURCE  \" ;\n",
       "                :NOTE = \"stl36km68x68 UAM elev pt emis from WMRGELEV                 \" ;\n",
       "                :XORIG = -792000.0 ;\n",
       "                :YORIG = -1656000.0 ;\n",
       "                :XCELL = 36000.0 ;\n",
       "                :YCELL = 36000.0 ;\n",
       "                :NCOLS = 68 ;\n",
       "                :NROWS = 68 ;\n",
       "                :NLAYS = 16 ;\n",
       "                :PLON = 0.0 ;\n",
       "                :PLAT = 0.0 ;\n",
       "                :TLAT1 = 0.0 ;\n",
       "                :TLAT2 = 20.0 ;\n",
       "                :IUTM = 0 ;\n",
       "                :ISTAG = 13 ;\n",
       "                :CPROJ = 3 ;\n",
       "                :ITZON = 1 ;\n",
       "                :SDATE = memmap([2168], dtype=int32) ;\n",
       "                :STIME = memmap([ 0.], dtype=float32) ;\n",
       "                :EDATE = memmap([2168], dtype=int32) ;\n",
       "                :ETIME = memmap([ 23.], dtype=float32) ;\n",
       "                :SPC_NAMES = \"CO              NO              NO2             ALD2            ETH             FORM            ISOP            NR              OLE             PAR             TOL             XYL             NH3             SO2             SULF            PEC             FPRM            PNO3            POA             PSO4            CPRM            TOLA            XYLA            \" ;\n",
       "                :VAR-LIST = \"ETFLAG          TFLAG           XSTK            YSTK            HSTK            DSTK            TSTK            VSTK            IONE            ITWO            KCELL           FLOW            PLMHT           NSTKS           CO              NO              NO2             ALD2            ETH             FORM            ISOP            NR              OLE             PAR             TOL             XYL             NH3             SO2             SULF            PEC             FPRM            PNO3            POA             PSO4            CPRM            TOLA            XYLA            \" ;\n",
       "                :NSTEPS = 2 ;\n",
       "                :history = \"camx_point_new.bin;--format=point_source camx_point_new.bin;\" ;\n",
       "}"
      ]
     },
     "execution_count": 28,
     "metadata": {},
     "output_type": "execute_result"
    }
   ],
   "source": [
    "pntargs = PNC('--format=point_source', newxpntpath)\n",
    "outfile = pntargs.ifiles[0]\n",
    "outfile"
   ]
  },
  {
   "cell_type": "markdown",
   "metadata": {
    "slideshow": {
     "slide_type": "slide"
    }
   },
   "source": [
    "# Plotting CAMx Point Source Files\n",
    "\n",
    "1. Create an appropriate basemap\n",
    "2. Convert projected coordinates to basemap coordinates\n",
    "    * basemap coordinates are map extent dependent\n",
    "    * XSTK, YSTK are relative to XORIG/YORIG\n",
    "3. Plot emissions using colors or sizes\n",
    "4. Add features including WGS84 ArcGIS shapefiles\n",
    "5. Save to disk"
   ]
  },
  {
   "cell_type": "markdown",
   "metadata": {
    "slideshow": {
     "slide_type": "subslide"
    }
   },
   "source": [
    "# Create appropriate basemap"
   ]
  },
  {
   "cell_type": "code",
   "execution_count": 29,
   "metadata": {
    "collapsed": false,
    "slideshow": {
     "slide_type": "-"
    }
   },
   "outputs": [
    {
     "data": {
      "text/plain": [
       "((0.0, 0.0), (2047450.7147794622, 2008729.5497043761))"
      ]
     },
     "execution_count": 29,
     "metadata": {},
     "output_type": "execute_result"
    }
   ],
   "source": [
    "from mpl_toolkits.basemap import Basemap\n",
    "bmap = Basemap(projection='lcc', rsphere = (6370000.0,6370000.0),\n",
    "               lon_0=-97.0, lat_1=33.0, lat_2=45.0, lat_0=40.0,\n",
    "               llcrnrlon = -95, llcrnrlat = 25, urcrnrlon= -70, urcrnrlat = 40,\n",
    "               resolution = 'c')\n",
    "# Notice offset problem\n",
    "bmap(-95, 25), bmap(-70, 40)"
   ]
  },
  {
   "cell_type": "markdown",
   "metadata": {
    "slideshow": {
     "slide_type": "subslide"
    }
   },
   "source": [
    "# Project XSTK/YSTK to lon/lat"
   ]
  },
  {
   "cell_type": "code",
   "execution_count": 30,
   "metadata": {
    "collapsed": true
   },
   "outputs": [],
   "source": [
    "# project infile and outfile lon/lat\n",
    "from pyproj import Proj\n",
    "projin = Proj('+proj=lcc +a=6370000.0 +b=6370000.0 ' +\n",
    "              '+lon_0=-97.0 +lat_1=33.0 +lat_2=45.0 ' +\n",
    "              '+lat_0=40.0 +no_defs',\n",
    "              preserve_unit = True)\n",
    "islon, islat = projin(infile.variables['XSTK'][:],\n",
    "                      infile.variables['YSTK'][:], inverse = True)\n",
    "oslon, oslat = projin(outfile.variables['XSTK'][:],\n",
    "                      outfile.variables['YSTK'][:], inverse = True)"
   ]
  },
  {
   "cell_type": "markdown",
   "metadata": {
    "slideshow": {
     "slide_type": "subslide"
    }
   },
   "source": [
    "# CAMx Point: Plot\n",
    "## Calculate color or size parameter"
   ]
  },
  {
   "cell_type": "code",
   "execution_count": 31,
   "metadata": {
    "collapsed": true
   },
   "outputs": [],
   "source": [
    "# calculate mean NO\n",
    "inoxmean = infile.variables['NO'][:].mean(0) + infile.variables['NO2'][:].mean(0)\n",
    "onoxmean = outfile.variables['NO'][:].mean(0) + outfile.variables['NO2'][:].mean(0)"
   ]
  },
  {
   "cell_type": "markdown",
   "metadata": {
    "slideshow": {
     "slide_type": "subslide"
    }
   },
   "source": [
    "# CAMx Point: Plot\n",
    "## Create plot"
   ]
  },
  {
   "cell_type": "code",
   "execution_count": 32,
   "metadata": {
    "collapsed": false
   },
   "outputs": [
    {
     "data": {
      "image/png": "[encoded data removed]",
      "text/plain": [
       "<matplotlib.figure.Figure at 0x112fbb390>"
      ]
     },
     "metadata": {},
     "output_type": "display_data"
    }
   ],
   "source": [
    "norm = plt.matplotlib.colors.LogNorm(100, 3000)\n",
    "bmap.scatter(oslon, oslat, c = onoxmean, s = 100, edgecolor = 'k', norm = norm, latlon = True)\n",
    "bmap.scatter(islon, islat, c = inoxmean, s = 30, edgecolor = 'white', norm = norm, latlon = True)\n",
    "plt.colorbar()\n",
    "bmap.drawcoastlines()\n",
    "bmap.drawcountries()\n",
    "bmap.drawstates();"
   ]
  },
  {
   "cell_type": "code",
   "execution_count": null,
   "metadata": {
    "collapsed": true
   },
   "outputs": [],
   "source": []
  }
 ],
 "metadata": {
  "anaconda-cloud": {},
  "celltoolbar": "Slideshow",
  "kernelspec": {
   "display_name": "Python [conda env:atmsci]",
   "language": "python",
   "name": "conda-env-atmsci-py"
  },
  "language_info": {
   "codemirror_mode": {
    "name": "ipython",
    "version": 3
   },
   "file_extension": ".py",
   "mimetype": "text/x-python",
   "name": "python",
   "nbconvert_exporter": "python",
   "pygments_lexer": "ipython3",
   "version": "3.5.2"
  }
 },
 "nbformat": 4,
 "nbformat_minor": 1
}
