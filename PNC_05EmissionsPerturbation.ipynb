{
 "cells": [
  {
   "cell_type": "code",
   "execution_count": 1,
   "metadata": {
    "collapsed": true
   },
   "outputs": [],
   "source": [
    "from notebook.services.config import ConfigManager\n",
    "cfgm = ConfigManager()\n",
    "cfgm.update('livereveal', {\n",
    "              'theme': 'simple',\n",
    "              'transition': 'convex',\n",
    "              'start_slideshow_at': 'selected'\n",
    "});"
   ]
  },
  {
   "cell_type": "code",
   "execution_count": 2,
   "metadata": {
    "collapsed": false
   },
   "outputs": [
    {
     "data": {
      "text/html": [
       "<style>\n",
       ".answers { \n",
       "    visibility: hidden;\n",
       "}\n",
       "</style>"
      ],
      "text/plain": [
       "<IPython.core.display.HTML object>"
      ]
     },
     "execution_count": 2,
     "metadata": {},
     "output_type": "execute_result"
    }
   ],
   "source": [
    "from IPython.core.display import HTML\n",
    "HTML(\"\"\"<style>\n",
    ".answers { \n",
    "    visibility: hidden;\n",
    "}\n",
    "</style>\"\"\")"
   ]
  },
  {
   "cell_type": "markdown",
   "metadata": {
    "slideshow": {
     "slide_type": "slide"
    }
   },
   "source": [
    "# Python Emissions Perturbation\n",
    "Author: Barron H. Henderson"
   ]
  },
  {
   "cell_type": "markdown",
   "metadata": {
    "slideshow": {
     "slide_type": "slide"
    }
   },
   "source": [
    "# CMAQ: Emissions Perturbation\n",
    "\n",
    "1. Copy a standard emissions input file\n",
    "2. Open the file in edit mode\n",
    "3. Change the concentration (e.g., cut NOx by half)\n",
    "4. Close the file"
   ]
  },
  {
   "cell_type": "code",
   "execution_count": null,
   "metadata": {
    "collapsed": true
   },
   "outputs": [],
   "source": [
    "emisoldpath = 'emis/'\n",
    "emisnewpath = 'new_emis.nc'"
   ]
  },
  {
   "cell_type": "markdown",
   "metadata": {
    "slideshow": {
     "slide_type": "subslide"
    }
   },
   "source": [
    "# CMAQ: Copy a standard emissions file"
   ]
  },
  {
   "cell_type": "code",
   "execution_count": 3,
   "metadata": {
    "collapsed": true
   },
   "outputs": [],
   "source": [
    "import shutil\n",
    "shutil.copyfile(emisoldpath, emisnewpath)"
   ]
  },
  {
   "cell_type": "markdown",
   "metadata": {
    "slideshow": {
     "slide_type": "subslide"
    }
   },
   "source": [
    "# CMAQ: Open the new file in edit mode"
   ]
  },
  {
   "cell_type": "code",
   "execution_count": null,
   "metadata": {
    "collapsed": true
   },
   "outputs": [],
   "source": [
    "emisargs = PNC('--format=netcdf,mode=\"r+\"', emisnewpath)\n",
    "emisnewfile = emisargs.ifiles[0]\n",
    "emisnewfile.variables['NO'][:] /= 2\n",
    "emisnewfile.variables['NO2'][:] /= 2\n",
    "emisnewfile.close()"
   ]
  },
  {
   "cell_type": "markdown",
   "metadata": {
    "slideshow": {
     "slide_type": "subslide"
    }
   },
   "source": [
    "# CMAQ: reopen and verify"
   ]
  },
  {
   "cell_type": "code",
   "execution_count": 4,
   "metadata": {
    "collapsed": false
   },
   "outputs": [
    {
     "ename": "NameError",
     "evalue": "name 'emisfile' is not defined",
     "output_type": "error",
     "traceback": [
      "\u001b[0;31m----------------------------------------------------------------\u001b[0m",
      "\u001b[0;31mNameError\u001b[0m                      Traceback (most recent call last)",
      "\u001b[0;32m<ipython-input-4-67e250203257>\u001b[0m in \u001b[0;36m<module>\u001b[0;34m()\u001b[0m\n\u001b[0;32m----> 1\u001b[0;31m \u001b[0memisfile\u001b[0m\u001b[0;34m.\u001b[0m\u001b[0mclose\u001b[0m\u001b[0;34m(\u001b[0m\u001b[0;34m)\u001b[0m\u001b[0;34m\u001b[0m\u001b[0m\n\u001b[0m\u001b[1;32m      2\u001b[0m \u001b[0memisargs\u001b[0m \u001b[0;34m=\u001b[0m \u001b[0mPNC\u001b[0m\u001b[0;34m(\u001b[0m\u001b[0memisoldpath\u001b[0m\u001b[0;34m,\u001b[0m \u001b[0memisnewpath\u001b[0m\u001b[0;34m)\u001b[0m\u001b[0;34m\u001b[0m\u001b[0m\n\u001b[1;32m      3\u001b[0m \u001b[0moldfile\u001b[0m\u001b[0;34m,\u001b[0m \u001b[0mnewfile\u001b[0m \u001b[0;34m=\u001b[0m \u001b[0memisargs\u001b[0m\u001b[0;34m.\u001b[0m\u001b[0mifiles\u001b[0m\u001b[0;34m\u001b[0m\u001b[0m\n\u001b[1;32m      4\u001b[0m \u001b[0mprint\u001b[0m\u001b[0;34m(\u001b[0m\u001b[0;34m'SPC, OLD, NEW'\u001b[0m\u001b[0;34m)\u001b[0m\u001b[0;34m\u001b[0m\u001b[0m\n\u001b[1;32m      5\u001b[0m \u001b[0;32mfor\u001b[0m \u001b[0mk\u001b[0m \u001b[0;32min\u001b[0m \u001b[0;34m'NO NO2'\u001b[0m\u001b[0;34m.\u001b[0m\u001b[0msplit\u001b[0m\u001b[0;34m(\u001b[0m\u001b[0;34m)\u001b[0m\u001b[0;34m:\u001b[0m\u001b[0;34m\u001b[0m\u001b[0m\n",
      "\u001b[0;31mNameError\u001b[0m: name 'emisfile' is not defined"
     ]
    }
   ],
   "source": [
    "emisargs = PNC(\"--format=netcdf\", emisoldpath, emisnewpath)\n",
    "oldfile, newfile = emisargs.ifiles\n",
    "print('SPC, OLD, NEW, UNITS')\n",
    "Mw = dict(NO = 30, NO2 = 46) # g/mole\n",
    "t2h = 3600\n",
    "g2Mg = 1e-6\n",
    "for k in 'NO NO2'.split():\n",
    "    old = oldfile.variables[k][:].sum()*t2h*g2Mg*Mw[k]\n",
    "    new = newfile.variables[k][:].sum()*t2h*g2Mg*Mw[k]\n",
    "    print('%3s %5.1f %5.1f Mg/day' % (k, old, new))"
   ]
  },
  {
   "cell_type": "markdown",
   "metadata": {
    "slideshow": {
     "slide_type": "slide"
    }
   },
   "source": [
    "# CAMx: Emissions Perturbation\n",
    "\n",
    "Repeat the CMAQ process with two exceptions:\n",
    "1. use uamiv instead of netcdf\n",
    "2. remove the change t2h from 3600 (what should it be?)"
   ]
  },
  {
   "cell_type": "code",
   "execution_count": null,
   "metadata": {
    "collapsed": true
   },
   "outputs": [],
   "source": []
  }
 ],
 "metadata": {
  "anaconda-cloud": {},
  "celltoolbar": "Slideshow",
  "kernelspec": {
   "display_name": "Python [conda env:atmsci]",
   "language": "python",
   "name": "conda-env-atmsci-py"
  },
  "language_info": {
   "codemirror_mode": {
    "name": "ipython",
    "version": 3
   },
   "file_extension": ".py",
   "mimetype": "text/x-python",
   "name": "python",
   "nbconvert_exporter": "python",
   "pygments_lexer": "ipython3",
   "version": "3.5.2"
  }
 },
 "nbformat": 4,
 "nbformat_minor": 1
}
