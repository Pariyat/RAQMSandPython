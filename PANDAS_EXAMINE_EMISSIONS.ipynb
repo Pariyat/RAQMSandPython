{
 "cells": [
  {
   "cell_type": "code",
   "execution_count": 1,
   "metadata": {
    "collapsed": true
   },
   "outputs": [],
   "source": [
    "from notebook.services.config import ConfigManager\n",
    "cfm = ConfigManager()\n",
    "cfm.update('livereveal', {'theme': 'simple',\n",
    " 'transition': 'convex',\n",
    " 'start_slideshow_at': 'selected'});"
   ]
  },
  {
   "cell_type": "code",
   "execution_count": 2,
   "metadata": {
    "collapsed": false
   },
   "outputs": [
    {
     "data": {
      "text/html": [
       "\n",
       "<style>\n",
       ".answers { \n",
       "    visibility: hidden;\n",
       "}\n",
       "</style>\n"
      ],
      "text/plain": [
       "<IPython.core.display.HTML object>"
      ]
     },
     "execution_count": 2,
     "metadata": {},
     "output_type": "execute_result"
    }
   ],
   "source": [
    "from IPython.core.display import HTML\n",
    "HTML(\"\"\"\n",
    "<style>\n",
    ".answers { \n",
    "    visibility: hidden;\n",
    "}\n",
    "</style>\n",
    "\"\"\")"
   ]
  },
  {
   "cell_type": "code",
   "execution_count": 3,
   "metadata": {
    "collapsed": false
   },
   "outputs": [
    {
     "name": "stdout",
     "output_type": "stream",
     "text": [
      "Populating the interactive namespace from numpy and matplotlib\n",
      "G:\\Dropbox\\2016\\Conference\\cmas\\python class\\tutorial_test\\RAQMSandPython\\working\n"
     ]
    }
   ],
   "source": [
    "# Prepare my slides\n",
    "%pylab inline\n",
    "%cd working"
   ]
  },
  {
   "cell_type": "code",
   "execution_count": 4,
   "metadata": {
    "collapsed": false
   },
   "outputs": [],
   "source": [
    "import pandas as pd\n",
    "ga_em_df = pd.read_csv(\"./pandas/ga_2014_nei_v2.csv\")"
   ]
  },
  {
   "cell_type": "code",
   "execution_count": 5,
   "metadata": {
    "collapsed": false
   },
   "outputs": [
    {
     "data": {
      "text/html": [
       "<div>\n",
       "<table border=\"1\" class=\"dataframe\">\n",
       "  <thead>\n",
       "    <tr style=\"text-align: right;\">\n",
       "      <th></th>\n",
       "      <th>FIPS</th>\n",
       "      <th>SCC</th>\n",
       "      <th>POLLUTANT</th>\n",
       "      <th>E2011</th>\n",
       "      <th>E2014</th>\n",
       "    </tr>\n",
       "  </thead>\n",
       "  <tbody>\n",
       "    <tr>\n",
       "      <th>0</th>\n",
       "      <td>13001</td>\n",
       "      <td>2102001000</td>\n",
       "      <td>NH3</td>\n",
       "      <td>0.000000</td>\n",
       "      <td>0.000000</td>\n",
       "    </tr>\n",
       "    <tr>\n",
       "      <th>1</th>\n",
       "      <td>13001</td>\n",
       "      <td>2102002000</td>\n",
       "      <td>NH3</td>\n",
       "      <td>0.000000</td>\n",
       "      <td>NaN</td>\n",
       "    </tr>\n",
       "    <tr>\n",
       "      <th>2</th>\n",
       "      <td>13001</td>\n",
       "      <td>2102004000</td>\n",
       "      <td>NH3</td>\n",
       "      <td>0.027775</td>\n",
       "      <td>0.000000</td>\n",
       "    </tr>\n",
       "    <tr>\n",
       "      <th>3</th>\n",
       "      <td>13001</td>\n",
       "      <td>2102004001</td>\n",
       "      <td>NH3</td>\n",
       "      <td>NaN</td>\n",
       "      <td>0.006860</td>\n",
       "    </tr>\n",
       "    <tr>\n",
       "      <th>4</th>\n",
       "      <td>13001</td>\n",
       "      <td>2102004002</td>\n",
       "      <td>NH3</td>\n",
       "      <td>NaN</td>\n",
       "      <td>0.004574</td>\n",
       "    </tr>\n",
       "  </tbody>\n",
       "</table>\n",
       "</div>"
      ],
      "text/plain": [
       "    FIPS         SCC POLLUTANT     E2011     E2014\n",
       "0  13001  2102001000       NH3  0.000000  0.000000\n",
       "1  13001  2102002000       NH3  0.000000       NaN\n",
       "2  13001  2102004000       NH3  0.027775  0.000000\n",
       "3  13001  2102004001       NH3       NaN  0.006860\n",
       "4  13001  2102004002       NH3       NaN  0.004574"
      ]
     },
     "execution_count": 5,
     "metadata": {},
     "output_type": "execute_result"
    }
   ],
   "source": [
    "ga_em_df.head()"
   ]
  },
  {
   "cell_type": "code",
   "execution_count": 6,
   "metadata": {
    "collapsed": true
   },
   "outputs": [],
   "source": [
    "sum_by_pol_df = pd.pivot_table(ga_em_df, index=\"POLLUTANT\", values=\"E2011\", aggfunc=sum)#default aggfunc=\"mean\""
   ]
  },
  {
   "cell_type": "code",
   "execution_count": 7,
   "metadata": {
    "collapsed": false
   },
   "outputs": [
    {
     "data": {
      "text/plain": [
       "<matplotlib.text.Text at 0x268741e0cf8>"
      ]
     },
     "execution_count": 7,
     "metadata": {},
     "output_type": "execute_result"
    },
    {
     "data": {
      "image/png": "[encoded data removed]",
      "text/plain": [
       "<matplotlib.figure.Figure at 0x26871459588>"
      ]
     },
     "metadata": {},
     "output_type": "display_data"
    }
   ],
   "source": [
    "bar_plot = sum_by_pol_df.plot.bar()\n",
    "bar_plot.set_ylabel(\"TPY\")\n",
    "bar_plot.set_xlabel(\"POLLUTANT\")"
   ]
  },
  {
   "cell_type": "code",
   "execution_count": 8,
   "metadata": {
    "collapsed": false
   },
   "outputs": [
    {
     "data": {
      "text/html": [
       "<div>\n",
       "<table border=\"1\" class=\"dataframe\">\n",
       "  <thead>\n",
       "    <tr style=\"text-align: right;\">\n",
       "      <th></th>\n",
       "      <th>Data Category</th>\n",
       "      <th>Code</th>\n",
       "      <th>SCC Level One</th>\n",
       "      <th>SCC Level Two</th>\n",
       "      <th>SCC Level Three</th>\n",
       "      <th>SCC Level Four</th>\n",
       "      <th>Map To</th>\n",
       "      <th>Last Inventory Year</th>\n",
       "      <th>Option Group</th>\n",
       "      <th>Option Set</th>\n",
       "      <th>Sector</th>\n",
       "      <th>ERT Valid</th>\n",
       "      <th>Short Name</th>\n",
       "      <th>Usage Notes</th>\n",
       "      <th>Last Updated Date</th>\n",
       "      <th>Tier 1 Description</th>\n",
       "      <th>Tier 2 Description</th>\n",
       "      <th>Tier 3 Description</th>\n",
       "      <th>Activity Value Required for this SCC?:</th>\n",
       "    </tr>\n",
       "  </thead>\n",
       "  <tbody>\n",
       "    <tr>\n",
       "      <th>0</th>\n",
       "      <td>Point</td>\n",
       "      <td>10100101</td>\n",
       "      <td>External Combustion Boilers</td>\n",
       "      <td>Electric Generation</td>\n",
       "      <td>Anthracite Coal, Pulverized</td>\n",
       "      <td>Boiler</td>\n",
       "      <td>NaN</td>\n",
       "      <td>NaN</td>\n",
       "      <td>NaN</td>\n",
       "      <td>NaN</td>\n",
       "      <td>Fuel Comb - Electric Generation - Coal</td>\n",
       "      <td>Yes</td>\n",
       "      <td>NaN</td>\n",
       "      <td>NaN</td>\n",
       "      <td>2016-03-03</td>\n",
       "      <td>Fuel Comb. Elec. Util.</td>\n",
       "      <td>Coal</td>\n",
       "      <td>Anthracite &amp; Lignite</td>\n",
       "      <td>No</td>\n",
       "    </tr>\n",
       "    <tr>\n",
       "      <th>1</th>\n",
       "      <td>Point</td>\n",
       "      <td>10100102</td>\n",
       "      <td>External Combustion Boilers</td>\n",
       "      <td>Electric Generation</td>\n",
       "      <td>Anthracite Coal</td>\n",
       "      <td>Boiler, Traveling Grate (Overfeed) Stoker</td>\n",
       "      <td>NaN</td>\n",
       "      <td>NaN</td>\n",
       "      <td>NaN</td>\n",
       "      <td>NaN</td>\n",
       "      <td>Fuel Comb - Electric Generation - Coal</td>\n",
       "      <td>Yes</td>\n",
       "      <td>NaN</td>\n",
       "      <td>NaN</td>\n",
       "      <td>2013-02-27</td>\n",
       "      <td>Fuel Comb. Elec. Util.</td>\n",
       "      <td>Coal</td>\n",
       "      <td>Anthracite &amp; Lignite</td>\n",
       "      <td>No</td>\n",
       "    </tr>\n",
       "    <tr>\n",
       "      <th>2</th>\n",
       "      <td>Point</td>\n",
       "      <td>10100201</td>\n",
       "      <td>External Combustion Boilers</td>\n",
       "      <td>Electric Generation</td>\n",
       "      <td>Bituminous Coal, Pulverized</td>\n",
       "      <td>Boiler, Wet Bottom</td>\n",
       "      <td>NaN</td>\n",
       "      <td>NaN</td>\n",
       "      <td>NaN</td>\n",
       "      <td>NaN</td>\n",
       "      <td>Fuel Comb - Electric Generation - Coal</td>\n",
       "      <td>Yes</td>\n",
       "      <td>NaN</td>\n",
       "      <td>NaN</td>\n",
       "      <td>2013-04-15</td>\n",
       "      <td>Fuel Comb. Elec. Util.</td>\n",
       "      <td>Coal</td>\n",
       "      <td>Bituminous</td>\n",
       "      <td>No</td>\n",
       "    </tr>\n",
       "    <tr>\n",
       "      <th>3</th>\n",
       "      <td>Point</td>\n",
       "      <td>10100202</td>\n",
       "      <td>External Combustion Boilers</td>\n",
       "      <td>Electric Generation</td>\n",
       "      <td>Bituminous Coal, Pulverized</td>\n",
       "      <td>Boiler, Dry Bottom</td>\n",
       "      <td>NaN</td>\n",
       "      <td>NaN</td>\n",
       "      <td>NaN</td>\n",
       "      <td>NaN</td>\n",
       "      <td>Fuel Comb - Electric Generation - Coal</td>\n",
       "      <td>Yes</td>\n",
       "      <td>NaN</td>\n",
       "      <td>NaN</td>\n",
       "      <td>2013-04-15</td>\n",
       "      <td>Fuel Comb. Elec. Util.</td>\n",
       "      <td>Coal</td>\n",
       "      <td>Bituminous</td>\n",
       "      <td>No</td>\n",
       "    </tr>\n",
       "    <tr>\n",
       "      <th>4</th>\n",
       "      <td>Point</td>\n",
       "      <td>10100203</td>\n",
       "      <td>External Combustion Boilers</td>\n",
       "      <td>Electric Generation</td>\n",
       "      <td>Bituminous Coal</td>\n",
       "      <td>Boiler, Cyclone Furnace</td>\n",
       "      <td>NaN</td>\n",
       "      <td>NaN</td>\n",
       "      <td>NaN</td>\n",
       "      <td>NaN</td>\n",
       "      <td>Fuel Comb - Electric Generation - Coal</td>\n",
       "      <td>Yes</td>\n",
       "      <td>NaN</td>\n",
       "      <td>NaN</td>\n",
       "      <td>2013-04-15</td>\n",
       "      <td>Fuel Comb. Elec. Util.</td>\n",
       "      <td>Coal</td>\n",
       "      <td>Bituminous</td>\n",
       "      <td>No</td>\n",
       "    </tr>\n",
       "  </tbody>\n",
       "</table>\n",
       "</div>"
      ],
      "text/plain": [
       "  Data Category      Code                SCC Level One        SCC Level Two  \\\n",
       "0         Point  10100101  External Combustion Boilers  Electric Generation   \n",
       "1         Point  10100102  External Combustion Boilers  Electric Generation   \n",
       "2         Point  10100201  External Combustion Boilers  Electric Generation   \n",
       "3         Point  10100202  External Combustion Boilers  Electric Generation   \n",
       "4         Point  10100203  External Combustion Boilers  Electric Generation   \n",
       "\n",
       "               SCC Level Three                             SCC Level Four  \\\n",
       "0  Anthracite Coal, Pulverized                                     Boiler   \n",
       "1              Anthracite Coal  Boiler, Traveling Grate (Overfeed) Stoker   \n",
       "2  Bituminous Coal, Pulverized                         Boiler, Wet Bottom   \n",
       "3  Bituminous Coal, Pulverized                         Boiler, Dry Bottom   \n",
       "4              Bituminous Coal                    Boiler, Cyclone Furnace   \n",
       "\n",
       "   Map To  Last Inventory Year Option Group Option Set  \\\n",
       "0     NaN                  NaN          NaN        NaN   \n",
       "1     NaN                  NaN          NaN        NaN   \n",
       "2     NaN                  NaN          NaN        NaN   \n",
       "3     NaN                  NaN          NaN        NaN   \n",
       "4     NaN                  NaN          NaN        NaN   \n",
       "\n",
       "                                   Sector ERT Valid Short Name Usage Notes  \\\n",
       "0  Fuel Comb - Electric Generation - Coal       Yes        NaN         NaN   \n",
       "1  Fuel Comb - Electric Generation - Coal       Yes        NaN         NaN   \n",
       "2  Fuel Comb - Electric Generation - Coal       Yes        NaN         NaN   \n",
       "3  Fuel Comb - Electric Generation - Coal       Yes        NaN         NaN   \n",
       "4  Fuel Comb - Electric Generation - Coal       Yes        NaN         NaN   \n",
       "\n",
       "  Last Updated Date      Tier 1 Description Tier 2 Description  \\\n",
       "0        2016-03-03  Fuel Comb. Elec. Util.               Coal   \n",
       "1        2013-02-27  Fuel Comb. Elec. Util.               Coal   \n",
       "2        2013-04-15  Fuel Comb. Elec. Util.               Coal   \n",
       "3        2013-04-15  Fuel Comb. Elec. Util.               Coal   \n",
       "4        2013-04-15  Fuel Comb. Elec. Util.               Coal   \n",
       "\n",
       "     Tier 3 Description Activity Value Required for this SCC?:   \n",
       "0  Anthracite & Lignite                                      No  \n",
       "1  Anthracite & Lignite                                      No  \n",
       "2            Bituminous                                      No  \n",
       "3            Bituminous                                      No  \n",
       "4            Bituminous                                      No  "
      ]
     },
     "execution_count": 8,
     "metadata": {},
     "output_type": "execute_result"
    }
   ],
   "source": [
    "scc_df = pd.read_csv(\"./pandas/source_classification_codes.csv\")\n",
    "scc_df.head()"
   ]
  },
  {
   "cell_type": "code",
   "execution_count": 9,
   "metadata": {
    "collapsed": false
   },
   "outputs": [
    {
     "data": {
      "text/html": [
       "<div>\n",
       "<table border=\"1\" class=\"dataframe\">\n",
       "  <thead>\n",
       "    <tr style=\"text-align: right;\">\n",
       "      <th></th>\n",
       "      <th>FIPS</th>\n",
       "      <th>SCC</th>\n",
       "      <th>POLLUTANT</th>\n",
       "      <th>E2011</th>\n",
       "      <th>E2014</th>\n",
       "      <th>Data Category</th>\n",
       "      <th>Code</th>\n",
       "      <th>SCC Level One</th>\n",
       "      <th>SCC Level Two</th>\n",
       "      <th>SCC Level Three</th>\n",
       "      <th>...</th>\n",
       "      <th>Option Set</th>\n",
       "      <th>Sector</th>\n",
       "      <th>ERT Valid</th>\n",
       "      <th>Short Name</th>\n",
       "      <th>Usage Notes</th>\n",
       "      <th>Last Updated Date</th>\n",
       "      <th>Tier 1 Description</th>\n",
       "      <th>Tier 2 Description</th>\n",
       "      <th>Tier 3 Description</th>\n",
       "      <th>Activity Value Required for this SCC?:</th>\n",
       "    </tr>\n",
       "  </thead>\n",
       "  <tbody>\n",
       "    <tr>\n",
       "      <th>0</th>\n",
       "      <td>13001</td>\n",
       "      <td>2102001000</td>\n",
       "      <td>NH3</td>\n",
       "      <td>0.0</td>\n",
       "      <td>0.0</td>\n",
       "      <td>Nonpoint</td>\n",
       "      <td>2102001000</td>\n",
       "      <td>Stationary Source Fuel Combustion</td>\n",
       "      <td>Industrial</td>\n",
       "      <td>Anthracite Coal</td>\n",
       "      <td>...</td>\n",
       "      <td>NaN</td>\n",
       "      <td>Fuel Comb - Industrial Boilers, ICEs - Coal</td>\n",
       "      <td>NaN</td>\n",
       "      <td>Fuel Combustion; Industrial; Anthr Coal</td>\n",
       "      <td>NaN</td>\n",
       "      <td>2015-04-21</td>\n",
       "      <td>Fuel Comb. Industrial</td>\n",
       "      <td>Coal</td>\n",
       "      <td>Anthracite &amp; Lignite</td>\n",
       "      <td>No</td>\n",
       "    </tr>\n",
       "    <tr>\n",
       "      <th>1</th>\n",
       "      <td>13001</td>\n",
       "      <td>2102001000</td>\n",
       "      <td>NOX</td>\n",
       "      <td>0.0</td>\n",
       "      <td>0.0</td>\n",
       "      <td>Nonpoint</td>\n",
       "      <td>2102001000</td>\n",
       "      <td>Stationary Source Fuel Combustion</td>\n",
       "      <td>Industrial</td>\n",
       "      <td>Anthracite Coal</td>\n",
       "      <td>...</td>\n",
       "      <td>NaN</td>\n",
       "      <td>Fuel Comb - Industrial Boilers, ICEs - Coal</td>\n",
       "      <td>NaN</td>\n",
       "      <td>Fuel Combustion; Industrial; Anthr Coal</td>\n",
       "      <td>NaN</td>\n",
       "      <td>2015-04-21</td>\n",
       "      <td>Fuel Comb. Industrial</td>\n",
       "      <td>Coal</td>\n",
       "      <td>Anthracite &amp; Lignite</td>\n",
       "      <td>No</td>\n",
       "    </tr>\n",
       "    <tr>\n",
       "      <th>2</th>\n",
       "      <td>13001</td>\n",
       "      <td>2102001000</td>\n",
       "      <td>SO2</td>\n",
       "      <td>0.0</td>\n",
       "      <td>0.0</td>\n",
       "      <td>Nonpoint</td>\n",
       "      <td>2102001000</td>\n",
       "      <td>Stationary Source Fuel Combustion</td>\n",
       "      <td>Industrial</td>\n",
       "      <td>Anthracite Coal</td>\n",
       "      <td>...</td>\n",
       "      <td>NaN</td>\n",
       "      <td>Fuel Comb - Industrial Boilers, ICEs - Coal</td>\n",
       "      <td>NaN</td>\n",
       "      <td>Fuel Combustion; Industrial; Anthr Coal</td>\n",
       "      <td>NaN</td>\n",
       "      <td>2015-04-21</td>\n",
       "      <td>Fuel Comb. Industrial</td>\n",
       "      <td>Coal</td>\n",
       "      <td>Anthracite &amp; Lignite</td>\n",
       "      <td>No</td>\n",
       "    </tr>\n",
       "    <tr>\n",
       "      <th>3</th>\n",
       "      <td>13003</td>\n",
       "      <td>2102001000</td>\n",
       "      <td>NH3</td>\n",
       "      <td>0.0</td>\n",
       "      <td>0.0</td>\n",
       "      <td>Nonpoint</td>\n",
       "      <td>2102001000</td>\n",
       "      <td>Stationary Source Fuel Combustion</td>\n",
       "      <td>Industrial</td>\n",
       "      <td>Anthracite Coal</td>\n",
       "      <td>...</td>\n",
       "      <td>NaN</td>\n",
       "      <td>Fuel Comb - Industrial Boilers, ICEs - Coal</td>\n",
       "      <td>NaN</td>\n",
       "      <td>Fuel Combustion; Industrial; Anthr Coal</td>\n",
       "      <td>NaN</td>\n",
       "      <td>2015-04-21</td>\n",
       "      <td>Fuel Comb. Industrial</td>\n",
       "      <td>Coal</td>\n",
       "      <td>Anthracite &amp; Lignite</td>\n",
       "      <td>No</td>\n",
       "    </tr>\n",
       "    <tr>\n",
       "      <th>4</th>\n",
       "      <td>13003</td>\n",
       "      <td>2102001000</td>\n",
       "      <td>NOX</td>\n",
       "      <td>0.0</td>\n",
       "      <td>0.0</td>\n",
       "      <td>Nonpoint</td>\n",
       "      <td>2102001000</td>\n",
       "      <td>Stationary Source Fuel Combustion</td>\n",
       "      <td>Industrial</td>\n",
       "      <td>Anthracite Coal</td>\n",
       "      <td>...</td>\n",
       "      <td>NaN</td>\n",
       "      <td>Fuel Comb - Industrial Boilers, ICEs - Coal</td>\n",
       "      <td>NaN</td>\n",
       "      <td>Fuel Combustion; Industrial; Anthr Coal</td>\n",
       "      <td>NaN</td>\n",
       "      <td>2015-04-21</td>\n",
       "      <td>Fuel Comb. Industrial</td>\n",
       "      <td>Coal</td>\n",
       "      <td>Anthracite &amp; Lignite</td>\n",
       "      <td>No</td>\n",
       "    </tr>\n",
       "  </tbody>\n",
       "</table>\n",
       "<p>5 rows × 24 columns</p>\n",
       "</div>"
      ],
      "text/plain": [
       "    FIPS         SCC POLLUTANT  E2011  E2014 Data Category        Code  \\\n",
       "0  13001  2102001000       NH3    0.0    0.0      Nonpoint  2102001000   \n",
       "1  13001  2102001000       NOX    0.0    0.0      Nonpoint  2102001000   \n",
       "2  13001  2102001000       SO2    0.0    0.0      Nonpoint  2102001000   \n",
       "3  13003  2102001000       NH3    0.0    0.0      Nonpoint  2102001000   \n",
       "4  13003  2102001000       NOX    0.0    0.0      Nonpoint  2102001000   \n",
       "\n",
       "                       SCC Level One SCC Level Two  SCC Level Three  \\\n",
       "0  Stationary Source Fuel Combustion    Industrial  Anthracite Coal   \n",
       "1  Stationary Source Fuel Combustion    Industrial  Anthracite Coal   \n",
       "2  Stationary Source Fuel Combustion    Industrial  Anthracite Coal   \n",
       "3  Stationary Source Fuel Combustion    Industrial  Anthracite Coal   \n",
       "4  Stationary Source Fuel Combustion    Industrial  Anthracite Coal   \n",
       "\n",
       "                    ...                   Option Set  \\\n",
       "0                   ...                          NaN   \n",
       "1                   ...                          NaN   \n",
       "2                   ...                          NaN   \n",
       "3                   ...                          NaN   \n",
       "4                   ...                          NaN   \n",
       "\n",
       "                                        Sector  ERT Valid  \\\n",
       "0  Fuel Comb - Industrial Boilers, ICEs - Coal        NaN   \n",
       "1  Fuel Comb - Industrial Boilers, ICEs - Coal        NaN   \n",
       "2  Fuel Comb - Industrial Boilers, ICEs - Coal        NaN   \n",
       "3  Fuel Comb - Industrial Boilers, ICEs - Coal        NaN   \n",
       "4  Fuel Comb - Industrial Boilers, ICEs - Coal        NaN   \n",
       "\n",
       "                                Short Name Usage Notes Last Updated Date  \\\n",
       "0  Fuel Combustion; Industrial; Anthr Coal         NaN        2015-04-21   \n",
       "1  Fuel Combustion; Industrial; Anthr Coal         NaN        2015-04-21   \n",
       "2  Fuel Combustion; Industrial; Anthr Coal         NaN        2015-04-21   \n",
       "3  Fuel Combustion; Industrial; Anthr Coal         NaN        2015-04-21   \n",
       "4  Fuel Combustion; Industrial; Anthr Coal         NaN        2015-04-21   \n",
       "\n",
       "      Tier 1 Description Tier 2 Description    Tier 3 Description  \\\n",
       "0  Fuel Comb. Industrial               Coal  Anthracite & Lignite   \n",
       "1  Fuel Comb. Industrial               Coal  Anthracite & Lignite   \n",
       "2  Fuel Comb. Industrial               Coal  Anthracite & Lignite   \n",
       "3  Fuel Comb. Industrial               Coal  Anthracite & Lignite   \n",
       "4  Fuel Comb. Industrial               Coal  Anthracite & Lignite   \n",
       "\n",
       "  Activity Value Required for this SCC?:   \n",
       "0                                      No  \n",
       "1                                      No  \n",
       "2                                      No  \n",
       "3                                      No  \n",
       "4                                      No  \n",
       "\n",
       "[5 rows x 24 columns]"
      ]
     },
     "execution_count": 9,
     "metadata": {},
     "output_type": "execute_result"
    }
   ],
   "source": [
    "merged_df1 = pd.merge(ga_em_df, scc_df, left_on=\"SCC\", right_on=\"Code\")#how=\"inner\",\"left\",\"right\",\"outer\"; default=\"inner\"\n",
    "merged_df1.head()"
   ]
  },
  {
   "cell_type": "code",
   "execution_count": 10,
   "metadata": {
    "collapsed": true
   },
   "outputs": [],
   "source": [
    "sum_by_pol_df = pd.pivot_table(ga_em_df, index=\"SCC\", columns=\"POLLUTANT\", values=\"E2011\", aggfunc=sum)"
   ]
  },
  {
   "cell_type": "code",
   "execution_count": 11,
   "metadata": {
    "collapsed": false
   },
   "outputs": [
    {
     "data": {
      "image/png": "[encoded data removed]",
      "text/plain": [
       "<matplotlib.figure.Figure at 0x268747d8dd8>"
      ]
     },
     "metadata": {},
     "output_type": "display_data"
    }
   ],
   "source": [
    "barh_plot = sum_by_pol_df.plot.barh();\n",
    "barh_plot.figure.set_size_inches(5,20)"
   ]
  },
  {
   "cell_type": "code",
   "execution_count": 12,
   "metadata": {
    "collapsed": false
   },
   "outputs": [
    {
     "data": {
      "text/plain": [
       "34     NH3\n",
       "126    NOX\n",
       "172    SO2\n",
       "Name: POLLUTANT, dtype: object"
      ]
     },
     "execution_count": 12,
     "metadata": {},
     "output_type": "execute_result"
    }
   ],
   "source": [
    "this_scc = 2285002006\n",
    "ga_em_df_subset = pd.DataFrame(ga_em_df[ga_em_df[\"SCC\"]==this_scc])\n",
    "ga_em_df_subset[\"POLLUTANT\"].drop_duplicates()"
   ]
  },
  {
   "cell_type": "code",
   "execution_count": 13,
   "metadata": {
    "collapsed": false
   },
   "outputs": [
    {
     "name": "stdout",
     "output_type": "stream",
     "text": [
      "Index(['FIPS', 'SCC', 'POLLUTANT', 'E2011', 'E2014'], dtype='object')\n"
     ]
    }
   ],
   "source": [
    "print(ga_em_df_subset.columns)\n",
    "ga_em_df_subset.loc[:,\"dE2014_E2011\"] = (ga_em_df_subset.loc[:,\"E2014\"] - ga_em_df_subset.loc[:,\"E2011\"]).values"
   ]
  },
  {
   "cell_type": "code",
   "execution_count": 14,
   "metadata": {
    "collapsed": true
   },
   "outputs": [],
   "source": [
    "dE_df = pd.pivot_table(ga_em_df_subset, index=\"FIPS\", columns=\"POLLUTANT\", values=\"dE2014_E2011\")"
   ]
  },
  {
   "cell_type": "code",
   "execution_count": 15,
   "metadata": {
    "collapsed": false
   },
   "outputs": [
    {
     "data": {
      "text/plain": [
       "Index(['NH3', 'NOX', 'SO2'], dtype='object', name='POLLUTANT')"
      ]
     },
     "execution_count": 15,
     "metadata": {},
     "output_type": "execute_result"
    }
   ],
   "source": [
    "dE_df.columns"
   ]
  },
  {
   "cell_type": "code",
   "execution_count": 16,
   "metadata": {
    "collapsed": false
   },
   "outputs": [
    {
     "data": {
      "image/png": "[encoded data removed]",
      "text/plain": [
       "<matplotlib.figure.Figure at 0x2687497d390>"
      ]
     },
     "metadata": {},
     "output_type": "display_data"
    }
   ],
   "source": [
    "dE_df_plot = dE_df.plot.bar();\n",
    "dE_df_plot.figure.set_size_inches(25,5)"
   ]
  },
  {
   "cell_type": "code",
   "execution_count": 17,
   "metadata": {
    "collapsed": false
   },
   "outputs": [
    {
     "data": {
      "text/html": [
       "<div>\n",
       "<table border=\"1\" class=\"dataframe\">\n",
       "  <thead>\n",
       "    <tr style=\"text-align: right;\">\n",
       "      <th></th>\n",
       "      <th>FIPS</th>\n",
       "      <th>SCC</th>\n",
       "      <th>POLLUTANT</th>\n",
       "      <th>E2011</th>\n",
       "      <th>E2014</th>\n",
       "      <th>Data Category</th>\n",
       "      <th>Code</th>\n",
       "      <th>SCC Level One</th>\n",
       "      <th>SCC Level Two</th>\n",
       "      <th>SCC Level Three</th>\n",
       "      <th>...</th>\n",
       "      <th>Option Set</th>\n",
       "      <th>Sector</th>\n",
       "      <th>ERT Valid</th>\n",
       "      <th>Short Name</th>\n",
       "      <th>Usage Notes</th>\n",
       "      <th>Last Updated Date</th>\n",
       "      <th>Tier 1 Description</th>\n",
       "      <th>Tier 2 Description</th>\n",
       "      <th>Tier 3 Description</th>\n",
       "      <th>Activity Value Required for this SCC?:</th>\n",
       "    </tr>\n",
       "  </thead>\n",
       "  <tbody>\n",
       "    <tr>\n",
       "      <th>16218</th>\n",
       "      <td>13001</td>\n",
       "      <td>2285002006</td>\n",
       "      <td>NH3</td>\n",
       "      <td>0.017473</td>\n",
       "      <td>0.017473</td>\n",
       "      <td>Nonpoint</td>\n",
       "      <td>2285002006</td>\n",
       "      <td>Mobile Sources</td>\n",
       "      <td>Railroad Equipment</td>\n",
       "      <td>Diesel</td>\n",
       "      <td>...</td>\n",
       "      <td>NaN</td>\n",
       "      <td>Mobile - Locomotives</td>\n",
       "      <td>NaN</td>\n",
       "      <td>NaN</td>\n",
       "      <td>NaN</td>\n",
       "      <td>2012-03-14</td>\n",
       "      <td>Off-Highway</td>\n",
       "      <td>Railroads</td>\n",
       "      <td>Other</td>\n",
       "      <td>No</td>\n",
       "    </tr>\n",
       "    <tr>\n",
       "      <th>16219</th>\n",
       "      <td>13001</td>\n",
       "      <td>2285002006</td>\n",
       "      <td>NOX</td>\n",
       "      <td>34.626463</td>\n",
       "      <td>34.626463</td>\n",
       "      <td>Nonpoint</td>\n",
       "      <td>2285002006</td>\n",
       "      <td>Mobile Sources</td>\n",
       "      <td>Railroad Equipment</td>\n",
       "      <td>Diesel</td>\n",
       "      <td>...</td>\n",
       "      <td>NaN</td>\n",
       "      <td>Mobile - Locomotives</td>\n",
       "      <td>NaN</td>\n",
       "      <td>NaN</td>\n",
       "      <td>NaN</td>\n",
       "      <td>2012-03-14</td>\n",
       "      <td>Off-Highway</td>\n",
       "      <td>Railroads</td>\n",
       "      <td>Other</td>\n",
       "      <td>No</td>\n",
       "    </tr>\n",
       "    <tr>\n",
       "      <th>16220</th>\n",
       "      <td>13001</td>\n",
       "      <td>2285002006</td>\n",
       "      <td>SO2</td>\n",
       "      <td>0.394341</td>\n",
       "      <td>0.394341</td>\n",
       "      <td>Nonpoint</td>\n",
       "      <td>2285002006</td>\n",
       "      <td>Mobile Sources</td>\n",
       "      <td>Railroad Equipment</td>\n",
       "      <td>Diesel</td>\n",
       "      <td>...</td>\n",
       "      <td>NaN</td>\n",
       "      <td>Mobile - Locomotives</td>\n",
       "      <td>NaN</td>\n",
       "      <td>NaN</td>\n",
       "      <td>NaN</td>\n",
       "      <td>2012-03-14</td>\n",
       "      <td>Off-Highway</td>\n",
       "      <td>Railroads</td>\n",
       "      <td>Other</td>\n",
       "      <td>No</td>\n",
       "    </tr>\n",
       "    <tr>\n",
       "      <th>16221</th>\n",
       "      <td>13005</td>\n",
       "      <td>2285002006</td>\n",
       "      <td>NH3</td>\n",
       "      <td>0.035434</td>\n",
       "      <td>0.035434</td>\n",
       "      <td>Nonpoint</td>\n",
       "      <td>2285002006</td>\n",
       "      <td>Mobile Sources</td>\n",
       "      <td>Railroad Equipment</td>\n",
       "      <td>Diesel</td>\n",
       "      <td>...</td>\n",
       "      <td>NaN</td>\n",
       "      <td>Mobile - Locomotives</td>\n",
       "      <td>NaN</td>\n",
       "      <td>NaN</td>\n",
       "      <td>NaN</td>\n",
       "      <td>2012-03-14</td>\n",
       "      <td>Off-Highway</td>\n",
       "      <td>Railroads</td>\n",
       "      <td>Other</td>\n",
       "      <td>No</td>\n",
       "    </tr>\n",
       "    <tr>\n",
       "      <th>16222</th>\n",
       "      <td>13005</td>\n",
       "      <td>2285002006</td>\n",
       "      <td>NOX</td>\n",
       "      <td>80.937200</td>\n",
       "      <td>80.937200</td>\n",
       "      <td>Nonpoint</td>\n",
       "      <td>2285002006</td>\n",
       "      <td>Mobile Sources</td>\n",
       "      <td>Railroad Equipment</td>\n",
       "      <td>Diesel</td>\n",
       "      <td>...</td>\n",
       "      <td>NaN</td>\n",
       "      <td>Mobile - Locomotives</td>\n",
       "      <td>NaN</td>\n",
       "      <td>NaN</td>\n",
       "      <td>NaN</td>\n",
       "      <td>2012-03-14</td>\n",
       "      <td>Off-Highway</td>\n",
       "      <td>Railroads</td>\n",
       "      <td>Other</td>\n",
       "      <td>No</td>\n",
       "    </tr>\n",
       "  </tbody>\n",
       "</table>\n",
       "<p>5 rows × 24 columns</p>\n",
       "</div>"
      ],
      "text/plain": [
       "        FIPS         SCC POLLUTANT      E2011      E2014 Data Category  \\\n",
       "16218  13001  2285002006       NH3   0.017473   0.017473      Nonpoint   \n",
       "16219  13001  2285002006       NOX  34.626463  34.626463      Nonpoint   \n",
       "16220  13001  2285002006       SO2   0.394341   0.394341      Nonpoint   \n",
       "16221  13005  2285002006       NH3   0.035434   0.035434      Nonpoint   \n",
       "16222  13005  2285002006       NOX  80.937200  80.937200      Nonpoint   \n",
       "\n",
       "             Code   SCC Level One       SCC Level Two SCC Level Three  \\\n",
       "16218  2285002006  Mobile Sources  Railroad Equipment          Diesel   \n",
       "16219  2285002006  Mobile Sources  Railroad Equipment          Diesel   \n",
       "16220  2285002006  Mobile Sources  Railroad Equipment          Diesel   \n",
       "16221  2285002006  Mobile Sources  Railroad Equipment          Diesel   \n",
       "16222  2285002006  Mobile Sources  Railroad Equipment          Diesel   \n",
       "\n",
       "                        ...                   Option Set  \\\n",
       "16218                   ...                          NaN   \n",
       "16219                   ...                          NaN   \n",
       "16220                   ...                          NaN   \n",
       "16221                   ...                          NaN   \n",
       "16222                   ...                          NaN   \n",
       "\n",
       "                     Sector  ERT Valid Short Name Usage Notes  \\\n",
       "16218  Mobile - Locomotives        NaN        NaN         NaN   \n",
       "16219  Mobile - Locomotives        NaN        NaN         NaN   \n",
       "16220  Mobile - Locomotives        NaN        NaN         NaN   \n",
       "16221  Mobile - Locomotives        NaN        NaN         NaN   \n",
       "16222  Mobile - Locomotives        NaN        NaN         NaN   \n",
       "\n",
       "      Last Updated Date Tier 1 Description Tier 2 Description  \\\n",
       "16218        2012-03-14        Off-Highway          Railroads   \n",
       "16219        2012-03-14        Off-Highway          Railroads   \n",
       "16220        2012-03-14        Off-Highway          Railroads   \n",
       "16221        2012-03-14        Off-Highway          Railroads   \n",
       "16222        2012-03-14        Off-Highway          Railroads   \n",
       "\n",
       "      Tier 3 Description Activity Value Required for this SCC?:   \n",
       "16218              Other                                      No  \n",
       "16219              Other                                      No  \n",
       "16220              Other                                      No  \n",
       "16221              Other                                      No  \n",
       "16222              Other                                      No  \n",
       "\n",
       "[5 rows x 24 columns]"
      ]
     },
     "execution_count": 17,
     "metadata": {},
     "output_type": "execute_result"
    }
   ],
   "source": [
    "mdf1 = merged_df1[merged_df1[\"SCC\"]==this_scc]\n",
    "mdf1.head()"
   ]
  },
  {
   "cell_type": "code",
   "execution_count": 18,
   "metadata": {
    "collapsed": true
   },
   "outputs": [],
   "source": [
    "mdf1.to_csv(\"test_out.csv\")"
   ]
  },
  {
   "cell_type": "code",
   "execution_count": null,
   "metadata": {
    "collapsed": true
   },
   "outputs": [],
   "source": []
  }
 ],
 "metadata": {
  "anaconda-cloud": {},
  "kernelspec": {
   "display_name": "Python [conda env:atmsci]",
   "language": "python",
   "name": "conda-env-atmsci-py"
  },
  "language_info": {
   "codemirror_mode": {
    "name": "ipython",
    "version": 3
   },
   "file_extension": ".py",
   "mimetype": "text/x-python",
   "name": "python",
   "nbconvert_exporter": "python",
   "pygments_lexer": "ipython3",
   "version": "3.5.2"
  }
 },
 "nbformat": 4,
 "nbformat_minor": 1
}
