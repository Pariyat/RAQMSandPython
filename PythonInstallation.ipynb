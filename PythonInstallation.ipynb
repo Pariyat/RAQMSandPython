{
 "cells": [
  {
   "cell_type": "code",
   "execution_count": null,
   "metadata": {
    "collapsed": false
   },
   "outputs": [],
   "source": [
    "from notebook.services.config import ConfigManager\n",
    "cfm = ConfigManager(); cfm.update('livereveal', {\n",
    " 'theme': 'simple', 'transition': 'convex',\n",
    " 'start_slideshow_at': 'selected'})"
   ]
  },
  {
   "cell_type": "markdown",
   "metadata": {
    "slideshow": {
     "slide_type": "slide"
    }
   },
   "source": [
    "# Anaconda Installation\n",
    "## includes: python, ipython, spyder, jupyter, and more...\n",
    "\n",
    "Author: Barron Henderson"
   ]
  },
  {
   "cell_type": "markdown",
   "metadata": {
    "slideshow": {
     "slide_type": "slide"
    }
   },
   "source": [
    "# Workshop Configuration\n",
    "\n",
    "## Steps to prepare for the workshop in breif:\n",
    "\n",
    "* Step 1. Install Anaconda version 4 or higher with Python3 as your default python\n",
    "* Step 2. Run `conda env create barronh/atmsci`\n",
    "\n",
    "The rest is just details specific to your platform...\n",
    "\n",
    "* The platform specific details here were tested in Oct 2016, and may be out of date.\n",
    "* Anaconda's website (https://www.continuum.io/downloads) may be more throrough\n",
    "\n",
    "\n"
   ]
  },
  {
   "cell_type": "markdown",
   "metadata": {
    "slideshow": {
     "slide_type": "slide"
    }
   },
   "source": [
    "# Step 1 Options\n",
    "\n",
    "Anaconda Installers and instructions are here for ease of use with the workshop.\n",
    "* Windows Installer\n",
    "* Mac\n",
    "  * Graphical Installer\n",
    "  * Command Line Interface Installer\n",
    "* Linux command line interface"
   ]
  },
  {
   "cell_type": "markdown",
   "metadata": {
    "slideshow": {
     "slide_type": "subslide"
    }
   },
   "source": [
    "# Windows Installation\n",
    "\n",
    "1. Select an installer from the next slide\n",
    "2. Download the installer, then double click the installer\n",
    "3. Follow instructions to install\n",
    "   - if you have admin rights, for system\n",
    "   - if you don't, just your user - *install directly in user directory* (e.g., C:\\Users\\username\\Anaconda3\\).\n",
    "\n",
    "*DO NOT create file associations*"
   ]
  },
  {
   "cell_type": "markdown",
   "metadata": {
    "slideshow": {
     "slide_type": "subslide"
    }
   },
   "source": [
    "## Windows Installer links\n",
    "- 64-bit: http://repo.continuum.io/archive/Anaconda3-4.2.0-Windows-x86_64.exe\n",
    "- 32-bit: http://repo.continuum.io/archive/Anaconda3-4.2.0-Windows-x86.exe"
   ]
  },
  {
   "cell_type": "markdown",
   "metadata": {
    "slideshow": {
     "slide_type": "subslide"
    }
   },
   "source": [
    "# OS X graphical\n",
    "1. Download http://repo.continuum.io/archive/Anaconda3-4.2.0-MacOSX-x86_64.pkg\n",
    "2. Double click\n",
    "3. Follow instructions to install\n",
    "   - if you have admin rights, for system (i.e., /anaconda3/)\n",
    "   - if you don't, just your user (i.e., /Users/username/anaconda3/)\n",
    "   "
   ]
  },
  {
   "cell_type": "markdown",
   "metadata": {
    "slideshow": {
     "slide_type": "subslide"
    }
   },
   "source": [
    "# OS X Command line\n",
    "1. Download: http://repo.continuum.io/archive/Anaconda3-4.2.0-MacOSX-x86_64.sh\n",
    "2. Open a terminal (command+space, type terminal, enter)\n",
    "3. `cd ~/Downloads`\n",
    "4. `bash Anaconda3-4.2.0-MacOSX-x86_64.sh`\n",
    "5. Follow instructions to install\n",
    "   - if you have admin rights, for system (i.e., /anaconda3/)\n",
    "   - if you don't, just your user (i.e., /Users/username/anaconda3/)"
   ]
  },
  {
   "cell_type": "code",
   "execution_count": null,
   "metadata": {
    "collapsed": false,
    "slideshow": {
     "slide_type": "fragment"
    }
   },
   "outputs": [],
   "source": [
    "%%bash\n",
    "cd ~/Downloads\n",
    "curl -LO http://repo.continuum.io/archive/Anaconda3-4.2.0-MacOSX-x86_64.sh\n",
    "bash Anaconda3-4.2.0-MacOSX-x86_64.sh"
   ]
  },
  {
   "cell_type": "markdown",
   "metadata": {
    "slideshow": {
     "slide_type": "subslide"
    }
   },
   "source": [
    "# Linux\n",
    "1. Download one of the installers\n",
    "2. Open a terminal, and Navigate to your download.\n",
    "3. Run installer (e.g., 64-bit)\n",
    "    - `bash Anaconda3-4.2.0-Linux-x86_64.sh`\n",
    "4. Follow instructions to install\n",
    "   - if you have admin rights, for system (e.g., /usr/local/anaconda3/)\n",
    "   - if you don't, just your user (e.g., /home/username/anaconda3)\n",
    "   \n",
    "   "
   ]
  },
  {
   "cell_type": "markdown",
   "metadata": {
    "slideshow": {
     "slide_type": "subslide"
    }
   },
   "source": [
    "## Linux Installer Links\n",
    "- 64-bit: http://repo.continuum.io/archive/Anaconda3-4.2.0-Linux-x86_64.sh\n",
    "- 32-bit: http://repo.continuum.io/archive/Anaconda3-4.2.0-Linux-x86.sh"
   ]
  },
  {
   "cell_type": "markdown",
   "metadata": {
    "slideshow": {
     "slide_type": "slide"
    }
   },
   "source": [
    "# Confirm Installation\n",
    "\n",
    "There are two ways to confirm correct installation:\n",
    "1. Using a GUI\n",
    "2. From a command line"
   ]
  },
  {
   "cell_type": "markdown",
   "metadata": {
    "slideshow": {
     "slide_type": "subslide"
    }
   },
   "source": [
    "## Confirmation Using GUI\n",
    "\n",
    "1. Find \"Navigator\" program\n",
    "2. Open \"Navigator\" program\n",
    "3. Launch I[py] qtconsol\n",
    "4. Compare forematter\n",
    "\n",
    "    ```\n",
    "    Jupyter QtConsole 4.2.0\n",
    "    Python 3.5.1 |Anaconda custom (x86_64)\n",
    "    ...\n",
    "    IPython 4.1.2 -- An enhanced Interactive Python.  \n",
    "    ...\n",
    "    ```"
   ]
  },
  {
   "cell_type": "markdown",
   "metadata": {
    "slideshow": {
     "slide_type": "subslide"
    }
   },
   "source": [
    "## Confirmation Using  CLI\n",
    "\n",
    "1. Open a terminal or dos prompt\n",
    "2. type `ipython -ic \"exit()\"`\n",
    "\n",
    "\n",
    "* On windows, ipython might require ipython.exe"
   ]
  },
  {
   "cell_type": "code",
   "execution_count": null,
   "metadata": {
    "collapsed": false,
    "slideshow": {
     "slide_type": "fragment"
    }
   },
   "outputs": [],
   "source": [
    "!ipython --version; python --version"
   ]
  },
  {
   "cell_type": "markdown",
   "metadata": {
    "collapsed": true,
    "slideshow": {
     "slide_type": "slide"
    }
   },
   "source": [
    "# Extra Libraries\n",
    "\n",
    "Most libraries we use, come with Anaconda. Some, however, need a little version syncronizing."
   ]
  },
  {
   "cell_type": "markdown",
   "metadata": {
    "slideshow": {
     "slide_type": "fragment"
    }
   },
   "source": [
    "1. Open a DOS prompt (Windows) or terminal (Mac/Linux)\n",
    "2. Run the following commands\n",
    "```\n",
    "conda env create barronh/atmsci\n",
    "```"
   ]
  },
  {
   "cell_type": "markdown",
   "metadata": {
    "slideshow": {
     "slide_type": "slide"
    }
   },
   "source": [
    "# Windows file association\n",
    "\n",
    "Do not make your own file associations.\n",
    "\n",
    "if you did....\n",
    "\n",
    "1. If you do, you may need to delete it (http://websistent.com/delete-file-association-windows-7/)\n",
    "1. If that still doesn't work, open a dos prompt.\n"
   ]
  },
  {
   "cell_type": "code",
   "execution_count": null,
   "metadata": {
    "collapsed": true
   },
   "outputs": [],
   "source": [
    "!assoc .py=Python.File\n",
    "!ftype Python.File=\"C:\\Users\\barronh\\Anaconda3\\python.exe\" \"%1\" %*"
   ]
  }
 ],
 "metadata": {
  "anaconda-cloud": {},
  "celltoolbar": "Slideshow",
  "kernelspec": {
   "display_name": "Python [conda env:atmsci]",
   "language": "python",
   "name": "conda-env-atmsci-py"
  },
  "language_info": {
   "codemirror_mode": {
    "name": "ipython",
    "version": 3
   },
   "file_extension": ".py",
   "mimetype": "text/x-python",
   "name": "python",
   "nbconvert_exporter": "python",
   "pygments_lexer": "ipython3",
   "version": "3.5.2"
  }
 },
 "nbformat": 4,
 "nbformat_minor": 0
}
